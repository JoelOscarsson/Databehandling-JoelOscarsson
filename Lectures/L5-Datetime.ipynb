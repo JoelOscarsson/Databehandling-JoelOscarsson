{
 "cells": [
  {
   "cell_type": "code",
   "execution_count": null,
   "metadata": {},
   "outputs": [],
   "source": []
  },
  {
   "cell_type": "markdown",
   "metadata": {},
   "source": [
    "## Datetime"
   ]
  },
  {
   "cell_type": "code",
   "execution_count": 55,
   "metadata": {},
   "outputs": [
    {
     "name": "stdout",
     "output_type": "stream",
     "text": [
      "2022-11-07 13:19:27.092376\n"
     ]
    },
    {
     "data": {
      "text/plain": [
       "datetime.datetime(2022, 11, 7, 13, 19, 27, 92376)"
      ]
     },
     "execution_count": 55,
     "metadata": {},
     "output_type": "execute_result"
    }
   ],
   "source": [
    "from datetime import datetime\n",
    "\n",
    "now = datetime.now()\n",
    "# format: year-month-day hour:minute:seconds.microseconds\n",
    "print(now)\n",
    "now\n",
    "# Notera att det är lite skillnad när man printar eller bara skriver ut variabeln.\n",
    "\n",
    "\n"
   ]
  },
  {
   "cell_type": "code",
   "execution_count": 60,
   "metadata": {},
   "outputs": [
    {
     "name": "stdout",
     "output_type": "stream",
     "text": [
      "Todays date is 2022-11-07\n",
      "Todays is Monday\n",
      "Today is (abbrev) Mon\n",
      "Week is 45\n"
     ]
    }
   ],
   "source": [
    "print(f\"Todays date is {now.date()}\")\n",
    "\n",
    "#strftime: datetime -> str\n",
    "print(f\"Todays is {now.strftime('%A')}\") # Får ut dagen på veckan\n",
    "print(f\"Today is (abbrev) {now.strftime('%a')}\")\n",
    "print(f\"Week is {now.strftime('%W')}\") # Får ut veckan"
   ]
  },
  {
   "cell_type": "code",
   "execution_count": 62,
   "metadata": {},
   "outputs": [
    {
     "name": "stdout",
     "output_type": "stream",
     "text": [
      "2024-05-25 00:00:00\n"
     ]
    }
   ],
   "source": [
    "graduation_date = \"25/5-2024\"\n",
    "\n",
    "#strptime: str -> datetime \n",
    "graduation_date = datetime.strptime(graduation_date, \"%d/%m-%Y\")  # Ändrar format i strptime(parsar)\n",
    "print(graduation_date)\n",
    "graduation_date"
   ]
  },
  {
   "cell_type": "code",
   "execution_count": 63,
   "metadata": {},
   "outputs": [
    {
     "data": {
      "text/plain": [
       "datetime.datetime(2022, 11, 7, 13, 19, 27, 92376)"
      ]
     },
     "execution_count": 63,
     "metadata": {},
     "output_type": "execute_result"
    }
   ],
   "source": [
    "now"
   ]
  },
  {
   "cell_type": "code",
   "execution_count": 66,
   "metadata": {},
   "outputs": [
    {
     "name": "stdout",
     "output_type": "stream",
     "text": [
      "564 days, 10:40:32.907624\n"
     ]
    },
    {
     "data": {
      "text/plain": [
       "datetime.timedelta(days=564, seconds=38432, microseconds=907624)"
      ]
     },
     "execution_count": 66,
     "metadata": {},
     "output_type": "execute_result"
    }
   ],
   "source": [
    "remaining_time = graduation_date - now\n",
    "print(remaining_time)\n",
    "remaining_time # timedelta object"
   ]
  },
  {
   "cell_type": "code",
   "execution_count": 68,
   "metadata": {},
   "outputs": [
    {
     "data": {
      "text/plain": [
       "'Week: 51, day:Sat'"
      ]
     },
     "execution_count": 68,
     "metadata": {},
     "output_type": "execute_result"
    }
   ],
   "source": [
    "# Kan t ex plocka ut när man har jullov\n",
    "\n",
    "christmas_str =\"2022-12-24\"\n",
    "\n",
    "# gör om till date objekt\n",
    "#datetime.strptime(christmas_str, \"%Y-%m-%d\")\n",
    "\n",
    "christmas_date = datetime.strptime(christmas_str, \"%Y-%m-%d\")\n",
    "christmas_date.strftime(\"Week: %W, day:%a\")"
   ]
  }
 ],
 "metadata": {
  "kernelspec": {
   "display_name": "Python 3.9.13 ('Databehandling-JoelOscarsson-h-Jlf9H_')",
   "language": "python",
   "name": "python3"
  },
  "language_info": {
   "codemirror_mode": {
    "name": "ipython",
    "version": 3
   },
   "file_extension": ".py",
   "mimetype": "text/x-python",
   "name": "python",
   "nbconvert_exporter": "python",
   "pygments_lexer": "ipython3",
   "version": "3.9.13"
  },
  "orig_nbformat": 4,
  "vscode": {
   "interpreter": {
    "hash": "df0739bc7b39e8427964f9ae188a6837100a4862158a1822169053d66701d42e"
   }
  }
 },
 "nbformat": 4,
 "nbformat_minor": 2
}
