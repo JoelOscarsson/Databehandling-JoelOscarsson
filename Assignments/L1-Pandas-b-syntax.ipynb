{
 "cells": [
  {
   "cell_type": "markdown",
   "metadata": {},
   "source": [
    "## 1. Cities in Sweden - create dataset (*)\n",
    "\n",
    "Create this DataFrame from scratch:\n",
    "\n",
    "![](../assets/print1.PNG)\n",
    "\n",
    "a) Use your DataFrame to print out all the cities. (*)\n",
    "\n",
    "  b) Select only the row which contains Göteborg. Do this by using the name Göteborg. (*)\n",
    "\n",
    "  c) Sort the cities by population from largest to smallest. (*)\n",
    "\n",
    "  d) Filter out the three largest cities. (*)\n",
    "\n",
    "  e) The whole population in Sweden 2020 is 10379295. Use this number to create a new column in your sorted DataFrame named: Population (%). This column should be filled with percentage of the Swedish population for each city."
   ]
  },
  {
   "cell_type": "code",
   "execution_count": 2,
   "metadata": {},
   "outputs": [
    {
     "data": {
      "text/html": [
       "<div>\n",
       "<style scoped>\n",
       "    .dataframe tbody tr th:only-of-type {\n",
       "        vertical-align: middle;\n",
       "    }\n",
       "\n",
       "    .dataframe tbody tr th {\n",
       "        vertical-align: top;\n",
       "    }\n",
       "\n",
       "    .dataframe thead th {\n",
       "        text-align: right;\n",
       "    }\n",
       "</style>\n",
       "<table border=\"1\" class=\"dataframe\">\n",
       "  <thead>\n",
       "    <tr style=\"text-align: right;\">\n",
       "      <th></th>\n",
       "      <th>Kommun</th>\n",
       "      <th>Population</th>\n",
       "    </tr>\n",
       "  </thead>\n",
       "  <tbody>\n",
       "    <tr>\n",
       "      <th>0</th>\n",
       "      <td>Malmö</td>\n",
       "      <td>347949</td>\n",
       "    </tr>\n",
       "    <tr>\n",
       "      <th>1</th>\n",
       "      <td>Stockholm</td>\n",
       "      <td>975551</td>\n",
       "    </tr>\n",
       "    <tr>\n",
       "      <th>2</th>\n",
       "      <td>Uppsala</td>\n",
       "      <td>233839</td>\n",
       "    </tr>\n",
       "    <tr>\n",
       "      <th>3</th>\n",
       "      <td>Göteborg</td>\n",
       "      <td>583056</td>\n",
       "    </tr>\n",
       "  </tbody>\n",
       "</table>\n",
       "</div>"
      ],
      "text/plain": [
       "      Kommun  Population\n",
       "0      Malmö      347949\n",
       "1  Stockholm      975551\n",
       "2    Uppsala      233839\n",
       "3   Göteborg      583056"
      ]
     },
     "execution_count": 2,
     "metadata": {},
     "output_type": "execute_result"
    }
   ],
   "source": [
    "# Create DataFrame from scratch:\n",
    "\n",
    "import pandas as pd  # Imports Pandas\n",
    "\n",
    "\n",
    "kommun = pd.Series({0: \"Malmö\", 1: \"Stockholm\", 2: \"Uppsala\", 3: \"Göteborg\"})\n",
    "population = pd.Series({0: 347949, 1: 975551, 2: 233839, 3: 583056})\n",
    "\n",
    "\n",
    "df_städer = pd.DataFrame(\n",
    "    {\"Kommun\": kommun, \"Population\": population}\n",
    ")  # Creates a Dataframe from my 2 variables, kommun, populaion\n",
    "df_städer"
   ]
  },
  {
   "cell_type": "markdown",
   "metadata": {},
   "source": [
    "a) Use your DataFrame to print out all the cities"
   ]
  },
  {
   "cell_type": "code",
   "execution_count": 3,
   "metadata": {},
   "outputs": [
    {
     "data": {
      "text/plain": [
       "array(['Malmö', 'Stockholm', 'Uppsala', 'Göteborg'], dtype=object)"
      ]
     },
     "execution_count": 3,
     "metadata": {},
     "output_type": "execute_result"
    }
   ],
   "source": [
    "# a) Use your DataFrame to print out all the cities.\n",
    "\n",
    "df_städer[\"Kommun\"].unique()   # Print out all cities"
   ]
  },
  {
   "cell_type": "code",
   "execution_count": 4,
   "metadata": {},
   "outputs": [
    {
     "name": "stdout",
     "output_type": "stream",
     "text": [
      "  Kommun  Population\n",
      "0  Malmö      347949\n"
     ]
    }
   ],
   "source": [
    "print(df_städer.loc[0:0])  # Finds row and columns"
   ]
  },
  {
   "cell_type": "code",
   "execution_count": 5,
   "metadata": {},
   "outputs": [
    {
     "data": {
      "text/html": [
       "<div>\n",
       "<style scoped>\n",
       "    .dataframe tbody tr th:only-of-type {\n",
       "        vertical-align: middle;\n",
       "    }\n",
       "\n",
       "    .dataframe tbody tr th {\n",
       "        vertical-align: top;\n",
       "    }\n",
       "\n",
       "    .dataframe thead th {\n",
       "        text-align: right;\n",
       "    }\n",
       "</style>\n",
       "<table border=\"1\" class=\"dataframe\">\n",
       "  <thead>\n",
       "    <tr style=\"text-align: right;\">\n",
       "      <th></th>\n",
       "      <th>Kommun</th>\n",
       "      <th>Population</th>\n",
       "    </tr>\n",
       "  </thead>\n",
       "  <tbody>\n",
       "    <tr>\n",
       "      <th>3</th>\n",
       "      <td>Göteborg</td>\n",
       "      <td>583056</td>\n",
       "    </tr>\n",
       "  </tbody>\n",
       "</table>\n",
       "</div>"
      ],
      "text/plain": [
       "     Kommun  Population\n",
       "3  Göteborg      583056"
      ]
     },
     "execution_count": 5,
     "metadata": {},
     "output_type": "execute_result"
    }
   ],
   "source": [
    "df_städer.loc[[3]] #Find row 3 with both columns(Kommun, Population)"
   ]
  },
  {
   "cell_type": "markdown",
   "metadata": {},
   "source": [
    "b) Select only the row which contains Göteborg. Do this by using the name Göteborg."
   ]
  },
  {
   "cell_type": "code",
   "execution_count": 6,
   "metadata": {},
   "outputs": [
    {
     "data": {
      "text/plain": [
       "0        Malmö\n",
       "1    Stockholm\n",
       "2      Uppsala\n",
       "3     Göteborg\n",
       "Name: Kommun, dtype: object"
      ]
     },
     "execution_count": 6,
     "metadata": {},
     "output_type": "execute_result"
    }
   ],
   "source": [
    "df_städer[\"Kommun\"] #Just printing out to see dtype and get the list of the cities"
   ]
  },
  {
   "cell_type": "code",
   "execution_count": 7,
   "metadata": {},
   "outputs": [
    {
     "data": {
      "text/html": [
       "<div>\n",
       "<style scoped>\n",
       "    .dataframe tbody tr th:only-of-type {\n",
       "        vertical-align: middle;\n",
       "    }\n",
       "\n",
       "    .dataframe tbody tr th {\n",
       "        vertical-align: top;\n",
       "    }\n",
       "\n",
       "    .dataframe thead th {\n",
       "        text-align: right;\n",
       "    }\n",
       "</style>\n",
       "<table border=\"1\" class=\"dataframe\">\n",
       "  <thead>\n",
       "    <tr style=\"text-align: right;\">\n",
       "      <th></th>\n",
       "      <th>Kommun</th>\n",
       "      <th>Population</th>\n",
       "    </tr>\n",
       "  </thead>\n",
       "  <tbody>\n",
       "    <tr>\n",
       "      <th>3</th>\n",
       "      <td>Göteborg</td>\n",
       "      <td>583056</td>\n",
       "    </tr>\n",
       "  </tbody>\n",
       "</table>\n",
       "</div>"
      ],
      "text/plain": [
       "     Kommun  Population\n",
       "3  Göteborg      583056"
      ]
     },
     "execution_count": 7,
     "metadata": {},
     "output_type": "execute_result"
    }
   ],
   "source": [
    "# Selects row where \"Kommun\" column is equal to Göteborg\n",
    "\n",
    "df_städer.loc[df_städer['Kommun'] == \"Göteborg\"]"
   ]
  },
  {
   "cell_type": "code",
   "execution_count": 8,
   "metadata": {},
   "outputs": [
    {
     "data": {
      "text/html": [
       "<div>\n",
       "<style scoped>\n",
       "    .dataframe tbody tr th:only-of-type {\n",
       "        vertical-align: middle;\n",
       "    }\n",
       "\n",
       "    .dataframe tbody tr th {\n",
       "        vertical-align: top;\n",
       "    }\n",
       "\n",
       "    .dataframe thead th {\n",
       "        text-align: right;\n",
       "    }\n",
       "</style>\n",
       "<table border=\"1\" class=\"dataframe\">\n",
       "  <thead>\n",
       "    <tr style=\"text-align: right;\">\n",
       "      <th></th>\n",
       "      <th>Kommun</th>\n",
       "    </tr>\n",
       "  </thead>\n",
       "  <tbody>\n",
       "    <tr>\n",
       "      <th>0</th>\n",
       "      <td>Malmö</td>\n",
       "    </tr>\n",
       "    <tr>\n",
       "      <th>1</th>\n",
       "      <td>Stockholm</td>\n",
       "    </tr>\n",
       "    <tr>\n",
       "      <th>2</th>\n",
       "      <td>Uppsala</td>\n",
       "    </tr>\n",
       "    <tr>\n",
       "      <th>3</th>\n",
       "      <td>Göteborg</td>\n",
       "    </tr>\n",
       "  </tbody>\n",
       "</table>\n",
       "</div>"
      ],
      "text/plain": [
       "      Kommun\n",
       "0      Malmö\n",
       "1  Stockholm\n",
       "2    Uppsala\n",
       "3   Göteborg"
      ]
     },
     "execution_count": 8,
     "metadata": {},
     "output_type": "execute_result"
    }
   ],
   "source": [
    "## Testar hur iloc fungerar ##\n",
    "\n",
    "# Selects columns in position 0\n",
    "df_städer.iloc[:, [0]]  # Denna raden gör att jag kan hitta t ex kommun bara, eller bara population och få siffrorna. \n",
    "# Testa skriva 1 istället för 0 om något är oklart på vad denna gör."
   ]
  },
  {
   "cell_type": "markdown",
   "metadata": {},
   "source": [
    "c) Sort the cities by population from largest to smallest"
   ]
  },
  {
   "cell_type": "code",
   "execution_count": 9,
   "metadata": {},
   "outputs": [
    {
     "name": "stdout",
     "output_type": "stream",
     "text": [
      "<class 'pandas.core.frame.DataFrame'>\n",
      "Int64Index: 4 entries, 0 to 3\n",
      "Data columns (total 2 columns):\n",
      " #   Column      Non-Null Count  Dtype \n",
      "---  ------      --------------  ----- \n",
      " 0   Kommun      4 non-null      object\n",
      " 1   Population  4 non-null      int64 \n",
      "dtypes: int64(1), object(1)\n",
      "memory usage: 268.0+ bytes\n"
     ]
    }
   ],
   "source": [
    "df_städer.info() # Gets some info"
   ]
  },
  {
   "cell_type": "code",
   "execution_count": 10,
   "metadata": {},
   "outputs": [
    {
     "data": {
      "text/html": [
       "<div>\n",
       "<style scoped>\n",
       "    .dataframe tbody tr th:only-of-type {\n",
       "        vertical-align: middle;\n",
       "    }\n",
       "\n",
       "    .dataframe tbody tr th {\n",
       "        vertical-align: top;\n",
       "    }\n",
       "\n",
       "    .dataframe thead th {\n",
       "        text-align: right;\n",
       "    }\n",
       "</style>\n",
       "<table border=\"1\" class=\"dataframe\">\n",
       "  <thead>\n",
       "    <tr style=\"text-align: right;\">\n",
       "      <th></th>\n",
       "      <th>Kommun</th>\n",
       "      <th>Population</th>\n",
       "    </tr>\n",
       "  </thead>\n",
       "  <tbody>\n",
       "    <tr>\n",
       "      <th>1</th>\n",
       "      <td>Stockholm</td>\n",
       "      <td>975551</td>\n",
       "    </tr>\n",
       "    <tr>\n",
       "      <th>3</th>\n",
       "      <td>Göteborg</td>\n",
       "      <td>583056</td>\n",
       "    </tr>\n",
       "    <tr>\n",
       "      <th>0</th>\n",
       "      <td>Malmö</td>\n",
       "      <td>347949</td>\n",
       "    </tr>\n",
       "    <tr>\n",
       "      <th>2</th>\n",
       "      <td>Uppsala</td>\n",
       "      <td>233839</td>\n",
       "    </tr>\n",
       "  </tbody>\n",
       "</table>\n",
       "</div>"
      ],
      "text/plain": [
       "      Kommun  Population\n",
       "1  Stockholm      975551\n",
       "3   Göteborg      583056\n",
       "0      Malmö      347949\n",
       "2    Uppsala      233839"
      ]
     },
     "execution_count": 10,
     "metadata": {},
     "output_type": "execute_result"
    }
   ],
   "source": [
    "df_städer_sorted = df_städer.sort_values(by=\"Population\", ascending = False) # Sorts values by column Population (largest first, could reverse it by making it True)\n",
    "df_städer_sorted\n"
   ]
  },
  {
   "cell_type": "markdown",
   "metadata": {},
   "source": [
    "# d) Filter out the three largest cities. "
   ]
  },
  {
   "cell_type": "code",
   "execution_count": 11,
   "metadata": {},
   "outputs": [
    {
     "data": {
      "text/html": [
       "<div>\n",
       "<style scoped>\n",
       "    .dataframe tbody tr th:only-of-type {\n",
       "        vertical-align: middle;\n",
       "    }\n",
       "\n",
       "    .dataframe tbody tr th {\n",
       "        vertical-align: top;\n",
       "    }\n",
       "\n",
       "    .dataframe thead th {\n",
       "        text-align: right;\n",
       "    }\n",
       "</style>\n",
       "<table border=\"1\" class=\"dataframe\">\n",
       "  <thead>\n",
       "    <tr style=\"text-align: right;\">\n",
       "      <th></th>\n",
       "      <th>Kommun</th>\n",
       "      <th>Population</th>\n",
       "    </tr>\n",
       "  </thead>\n",
       "  <tbody>\n",
       "    <tr>\n",
       "      <th>2</th>\n",
       "      <td>Uppsala</td>\n",
       "      <td>233839</td>\n",
       "    </tr>\n",
       "  </tbody>\n",
       "</table>\n",
       "</div>"
      ],
      "text/plain": [
       "    Kommun  Population\n",
       "2  Uppsala      233839"
      ]
     },
     "execution_count": 11,
     "metadata": {},
     "output_type": "execute_result"
    }
   ],
   "source": [
    "df_städer_sorted.tail(-3)  # Returns row with tail from position (-3)"
   ]
  },
  {
   "cell_type": "code",
   "execution_count": 12,
   "metadata": {},
   "outputs": [
    {
     "data": {
      "text/html": [
       "<div>\n",
       "<style scoped>\n",
       "    .dataframe tbody tr th:only-of-type {\n",
       "        vertical-align: middle;\n",
       "    }\n",
       "\n",
       "    .dataframe tbody tr th {\n",
       "        vertical-align: top;\n",
       "    }\n",
       "\n",
       "    .dataframe thead th {\n",
       "        text-align: right;\n",
       "    }\n",
       "</style>\n",
       "<table border=\"1\" class=\"dataframe\">\n",
       "  <thead>\n",
       "    <tr style=\"text-align: right;\">\n",
       "      <th></th>\n",
       "      <th>Kommun</th>\n",
       "      <th>Population</th>\n",
       "    </tr>\n",
       "  </thead>\n",
       "  <tbody>\n",
       "    <tr>\n",
       "      <th>1</th>\n",
       "      <td>Stockholm</td>\n",
       "      <td>975551</td>\n",
       "    </tr>\n",
       "    <tr>\n",
       "      <th>3</th>\n",
       "      <td>Göteborg</td>\n",
       "      <td>583056</td>\n",
       "    </tr>\n",
       "    <tr>\n",
       "      <th>0</th>\n",
       "      <td>Malmö</td>\n",
       "      <td>347949</td>\n",
       "    </tr>\n",
       "  </tbody>\n",
       "</table>\n",
       "</div>"
      ],
      "text/plain": [
       "      Kommun  Population\n",
       "1  Stockholm      975551\n",
       "3   Göteborg      583056\n",
       "0      Malmö      347949"
      ]
     },
     "execution_count": 12,
     "metadata": {},
     "output_type": "execute_result"
    }
   ],
   "source": [
    "df_städer_sorted.iloc[:3]  # Finds the three largest based on iloc position finder"
   ]
  },
  {
   "cell_type": "code",
   "execution_count": 13,
   "metadata": {},
   "outputs": [
    {
     "data": {
      "text/html": [
       "<div>\n",
       "<style scoped>\n",
       "    .dataframe tbody tr th:only-of-type {\n",
       "        vertical-align: middle;\n",
       "    }\n",
       "\n",
       "    .dataframe tbody tr th {\n",
       "        vertical-align: top;\n",
       "    }\n",
       "\n",
       "    .dataframe thead th {\n",
       "        text-align: right;\n",
       "    }\n",
       "</style>\n",
       "<table border=\"1\" class=\"dataframe\">\n",
       "  <thead>\n",
       "    <tr style=\"text-align: right;\">\n",
       "      <th></th>\n",
       "      <th>Kommun</th>\n",
       "      <th>Population</th>\n",
       "    </tr>\n",
       "  </thead>\n",
       "  <tbody>\n",
       "    <tr>\n",
       "      <th>1</th>\n",
       "      <td>Stockholm</td>\n",
       "      <td>975551</td>\n",
       "    </tr>\n",
       "    <tr>\n",
       "      <th>3</th>\n",
       "      <td>Göteborg</td>\n",
       "      <td>583056</td>\n",
       "    </tr>\n",
       "    <tr>\n",
       "      <th>0</th>\n",
       "      <td>Malmö</td>\n",
       "      <td>347949</td>\n",
       "    </tr>\n",
       "  </tbody>\n",
       "</table>\n",
       "</div>"
      ],
      "text/plain": [
       "      Kommun  Population\n",
       "1  Stockholm      975551\n",
       "3   Göteborg      583056\n",
       "0      Malmö      347949"
      ]
     },
     "execution_count": 13,
     "metadata": {},
     "output_type": "execute_result"
    }
   ],
   "source": [
    "df_städer_sorted.head(3)   # Using head to get the first biggest cities in the städer sorted"
   ]
  },
  {
   "cell_type": "code",
   "execution_count": 14,
   "metadata": {},
   "outputs": [
    {
     "data": {
      "text/plain": [
       "975551    1\n",
       "583056    1\n",
       "347949    1\n",
       "233839    1\n",
       "Name: Population, dtype: int64"
      ]
     },
     "execution_count": 14,
     "metadata": {},
     "output_type": "execute_result"
    }
   ],
   "source": [
    "df_städer_sorted[\"Population\"].value_counts() # Counts the how many time the unique values are counted"
   ]
  },
  {
   "cell_type": "code",
   "execution_count": 15,
   "metadata": {},
   "outputs": [
    {
     "data": {
      "text/plain": [
       "True     3\n",
       "False    1\n",
       "Name: Population, dtype: int64"
      ]
     },
     "execution_count": 15,
     "metadata": {},
     "output_type": "execute_result"
    }
   ],
   "source": [
    "(df_städer_sorted[\"Population\"] >= 300000).value_counts()  #Sorts out by value. As i set the bar so high i know that the smallest city of the 4 will be false. "
   ]
  },
  {
   "cell_type": "code",
   "execution_count": 16,
   "metadata": {},
   "outputs": [
    {
     "data": {
      "text/plain": [
       "<bound method DataFrame.info of       Kommun  Population\n",
       "0      Malmö      347949\n",
       "1  Stockholm      975551\n",
       "2    Uppsala      233839\n",
       "3   Göteborg      583056>"
      ]
     },
     "execution_count": 16,
     "metadata": {},
     "output_type": "execute_result"
    }
   ],
   "source": [
    "df_städer.info"
   ]
  },
  {
   "cell_type": "markdown",
   "metadata": {},
   "source": [
    "e) The whole population in Sweden 2020 is 10379295. Use this number to create a new column in your sorted DataFrame named: Population (%). This column should be filled with percentage of the Swedish population for each city."
   ]
  },
  {
   "cell_type": "code",
   "execution_count": 17,
   "metadata": {},
   "outputs": [
    {
     "data": {
      "text/html": [
       "<div>\n",
       "<style scoped>\n",
       "    .dataframe tbody tr th:only-of-type {\n",
       "        vertical-align: middle;\n",
       "    }\n",
       "\n",
       "    .dataframe tbody tr th {\n",
       "        vertical-align: top;\n",
       "    }\n",
       "\n",
       "    .dataframe thead th {\n",
       "        text-align: right;\n",
       "    }\n",
       "</style>\n",
       "<table border=\"1\" class=\"dataframe\">\n",
       "  <thead>\n",
       "    <tr style=\"text-align: right;\">\n",
       "      <th></th>\n",
       "      <th>Kommun</th>\n",
       "      <th>Population</th>\n",
       "      <th>Population_in_percent</th>\n",
       "    </tr>\n",
       "  </thead>\n",
       "  <tbody>\n",
       "    <tr>\n",
       "      <th>1</th>\n",
       "      <td>Stockholm</td>\n",
       "      <td>975551</td>\n",
       "      <td>9.399010</td>\n",
       "    </tr>\n",
       "    <tr>\n",
       "      <th>3</th>\n",
       "      <td>Göteborg</td>\n",
       "      <td>583056</td>\n",
       "      <td>5.617491</td>\n",
       "    </tr>\n",
       "    <tr>\n",
       "      <th>0</th>\n",
       "      <td>Malmö</td>\n",
       "      <td>347949</td>\n",
       "      <td>3.352338</td>\n",
       "    </tr>\n",
       "    <tr>\n",
       "      <th>2</th>\n",
       "      <td>Uppsala</td>\n",
       "      <td>233839</td>\n",
       "      <td>2.252937</td>\n",
       "    </tr>\n",
       "  </tbody>\n",
       "</table>\n",
       "</div>"
      ],
      "text/plain": [
       "      Kommun  Population  Population_in_percent\n",
       "1  Stockholm      975551               9.399010\n",
       "3   Göteborg      583056               5.617491\n",
       "0      Malmö      347949               3.352338\n",
       "2    Uppsala      233839               2.252937"
      ]
     },
     "execution_count": 17,
     "metadata": {},
     "output_type": "execute_result"
    }
   ],
   "source": [
    "# e) The whole population in Sweden 2020 is 10379295.\n",
    "# Use this number to create a new column in your sorted DataFrame named: Population (%). This column should be filled with percentage of the Swedish population for each city.\n",
    "asd = 10379295\n",
    "\n",
    "df_städer2 = df_städer_sorted.assign(Population_in_percent=lambda x: population / asd * 100)   # I have trouble renaming my due to % disrupt everyting?\n",
    "df_städer2"
   ]
  },
  {
   "cell_type": "code",
   "execution_count": 18,
   "metadata": {},
   "outputs": [
    {
     "data": {
      "text/html": [
       "<div>\n",
       "<style scoped>\n",
       "    .dataframe tbody tr th:only-of-type {\n",
       "        vertical-align: middle;\n",
       "    }\n",
       "\n",
       "    .dataframe tbody tr th {\n",
       "        vertical-align: top;\n",
       "    }\n",
       "\n",
       "    .dataframe thead th {\n",
       "        text-align: right;\n",
       "    }\n",
       "</style>\n",
       "<table border=\"1\" class=\"dataframe\">\n",
       "  <thead>\n",
       "    <tr style=\"text-align: right;\">\n",
       "      <th></th>\n",
       "      <th>Kommun</th>\n",
       "      <th>Population</th>\n",
       "      <th>Population (%)</th>\n",
       "    </tr>\n",
       "  </thead>\n",
       "  <tbody>\n",
       "    <tr>\n",
       "      <th>1</th>\n",
       "      <td>Stockholm</td>\n",
       "      <td>975551</td>\n",
       "      <td>9.399010</td>\n",
       "    </tr>\n",
       "    <tr>\n",
       "      <th>3</th>\n",
       "      <td>Göteborg</td>\n",
       "      <td>583056</td>\n",
       "      <td>5.617491</td>\n",
       "    </tr>\n",
       "    <tr>\n",
       "      <th>0</th>\n",
       "      <td>Malmö</td>\n",
       "      <td>347949</td>\n",
       "      <td>3.352338</td>\n",
       "    </tr>\n",
       "    <tr>\n",
       "      <th>2</th>\n",
       "      <td>Uppsala</td>\n",
       "      <td>233839</td>\n",
       "      <td>2.252937</td>\n",
       "    </tr>\n",
       "  </tbody>\n",
       "</table>\n",
       "</div>"
      ],
      "text/plain": [
       "      Kommun  Population  Population (%)\n",
       "1  Stockholm      975551        9.399010\n",
       "3   Göteborg      583056        5.617491\n",
       "0      Malmö      347949        3.352338\n",
       "2    Uppsala      233839        2.252937"
      ]
     },
     "execution_count": 18,
     "metadata": {},
     "output_type": "execute_result"
    }
   ],
   "source": [
    "asd2 = 10379295\n",
    "\n",
    "df_städer_sorted[\"Population (%)\"] = (df_städer_sorted[\"Population\"] / asd2 * 100)\n",
    "df_städer_sorted"
   ]
  },
  {
   "cell_type": "markdown",
   "metadata": {},
   "source": [
    "---\n",
    "\n",
    "## 2. Cities in Sweden - real dataset (*)\n",
    "\n",
    "Download the file komtopp50_2020.xlsx from the course github repo. The data is taken from SCB. \n",
    "\n",
    "&nbsp; a) Read in the tab \"Totalt\" into a DataFrame and start exploring the data with some simple explorations such as\n",
    "\n",
    "```python\n",
    "df.head()\n",
    "df.info()\n",
    "df.describe()\n",
    "```\n",
    "\n",
    "Feel free to do more explorations. (*)\n",
    "\n",
    "&nbsp; b) Clean your data so that the head looks like this: (*)\n",
    "\n",
    "\n",
    "|    |   Rang 2020 |   Rang 2019 | Kommun   |   Folkmängd 2020 |   Folkmängd 2019 |   Förändring |\n",
    "|---:|------------:|------------:|:---------|-----------------:|-----------------:|-------------:|\n",
    "|  0 |          83 |          84 | Ale      |            31868 |            31402 |     1.48398  |\n",
    "|  1 |          64 |          64 | Alingsås |            41602 |            41420 |     0.439401 |\n",
    "|  2 |         123 |         123 | Alvesta  |            20224 |            20134 |     0.447005 |\n",
    "|  3 |         255 |         255 | Aneby    |             6821 |             6848 |    -0.394276 |\n",
    "|  4 |         169 |         167 | Arboga   |            14039 |            14087 |    -0.34074  |\n",
    "\n",
    "&nbsp; c) Sort the cities by population from largest to smallest. (*)\n",
    "\n",
    "&nbsp; d) Filter out the five smallest cities. (*)\n",
    "\n",
    "&nbsp; e) Use the DataFrame to calculate Sweden's population in 2019 and 2020. (*)\n",
    "\n",
    "&nbsp; f) Plot a bar chart for the five largest cities and the five smallest cities. (*) \n"
   ]
  },
  {
   "cell_type": "code",
   "execution_count": 19,
   "metadata": {},
   "outputs": [
    {
     "data": {
      "text/html": [
       "<div>\n",
       "<style scoped>\n",
       "    .dataframe tbody tr th:only-of-type {\n",
       "        vertical-align: middle;\n",
       "    }\n",
       "\n",
       "    .dataframe tbody tr th {\n",
       "        vertical-align: top;\n",
       "    }\n",
       "\n",
       "    .dataframe thead tr th {\n",
       "        text-align: left;\n",
       "    }\n",
       "</style>\n",
       "<table border=\"1\" class=\"dataframe\">\n",
       "  <thead>\n",
       "    <tr>\n",
       "      <th></th>\n",
       "      <th colspan=\"2\" halign=\"left\">Rang</th>\n",
       "      <th>Kommun</th>\n",
       "      <th colspan=\"2\" halign=\"left\">Folkmängd 31 december</th>\n",
       "      <th>Förändring</th>\n",
       "    </tr>\n",
       "    <tr>\n",
       "      <th></th>\n",
       "      <th>2020</th>\n",
       "      <th>2019</th>\n",
       "      <th>Unnamed: 2_level_1</th>\n",
       "      <th>2020</th>\n",
       "      <th>2019</th>\n",
       "      <th>%</th>\n",
       "    </tr>\n",
       "  </thead>\n",
       "  <tbody>\n",
       "    <tr>\n",
       "      <th>0</th>\n",
       "      <td>83</td>\n",
       "      <td>84</td>\n",
       "      <td>Ale</td>\n",
       "      <td>31868</td>\n",
       "      <td>31402</td>\n",
       "      <td>1.483982</td>\n",
       "    </tr>\n",
       "    <tr>\n",
       "      <th>1</th>\n",
       "      <td>64</td>\n",
       "      <td>64</td>\n",
       "      <td>Alingsås</td>\n",
       "      <td>41602</td>\n",
       "      <td>41420</td>\n",
       "      <td>0.439401</td>\n",
       "    </tr>\n",
       "    <tr>\n",
       "      <th>2</th>\n",
       "      <td>123</td>\n",
       "      <td>123</td>\n",
       "      <td>Alvesta</td>\n",
       "      <td>20224</td>\n",
       "      <td>20134</td>\n",
       "      <td>0.447005</td>\n",
       "    </tr>\n",
       "    <tr>\n",
       "      <th>3</th>\n",
       "      <td>255</td>\n",
       "      <td>255</td>\n",
       "      <td>Aneby</td>\n",
       "      <td>6821</td>\n",
       "      <td>6848</td>\n",
       "      <td>-0.394276</td>\n",
       "    </tr>\n",
       "    <tr>\n",
       "      <th>4</th>\n",
       "      <td>169</td>\n",
       "      <td>167</td>\n",
       "      <td>Arboga</td>\n",
       "      <td>14039</td>\n",
       "      <td>14087</td>\n",
       "      <td>-0.340740</td>\n",
       "    </tr>\n",
       "    <tr>\n",
       "      <th>5</th>\n",
       "      <td>287</td>\n",
       "      <td>287</td>\n",
       "      <td>Arjeplog</td>\n",
       "      <td>2718</td>\n",
       "      <td>2785</td>\n",
       "      <td>-2.405745</td>\n",
       "    </tr>\n",
       "    <tr>\n",
       "      <th>6</th>\n",
       "      <td>261</td>\n",
       "      <td>261</td>\n",
       "      <td>Arvidsjaur</td>\n",
       "      <td>6145</td>\n",
       "      <td>6220</td>\n",
       "      <td>-1.205788</td>\n",
       "    </tr>\n",
       "    <tr>\n",
       "      <th>7</th>\n",
       "      <td>103</td>\n",
       "      <td>102</td>\n",
       "      <td>Arvika</td>\n",
       "      <td>25932</td>\n",
       "      <td>26045</td>\n",
       "      <td>-0.433864</td>\n",
       "    </tr>\n",
       "    <tr>\n",
       "      <th>8</th>\n",
       "      <td>198</td>\n",
       "      <td>199</td>\n",
       "      <td>Askersund</td>\n",
       "      <td>11471</td>\n",
       "      <td>11377</td>\n",
       "      <td>0.826228</td>\n",
       "    </tr>\n",
       "    <tr>\n",
       "      <th>9</th>\n",
       "      <td>112</td>\n",
       "      <td>112</td>\n",
       "      <td>Avesta</td>\n",
       "      <td>23067</td>\n",
       "      <td>23178</td>\n",
       "      <td>-0.478902</td>\n",
       "    </tr>\n",
       "  </tbody>\n",
       "</table>\n",
       "</div>"
      ],
      "text/plain": [
       "  Rang                  Kommun Folkmängd 31 december        Förändring\n",
       "  2020 2019 Unnamed: 2_level_1                  2020   2019          %\n",
       "0   83   84                Ale                 31868  31402   1.483982\n",
       "1   64   64           Alingsås                 41602  41420   0.439401\n",
       "2  123  123            Alvesta                 20224  20134   0.447005\n",
       "3  255  255              Aneby                  6821   6848  -0.394276\n",
       "4  169  167             Arboga                 14039  14087  -0.340740\n",
       "5  287  287           Arjeplog                  2718   2785  -2.405745\n",
       "6  261  261         Arvidsjaur                  6145   6220  -1.205788\n",
       "7  103  102             Arvika                 25932  26045  -0.433864\n",
       "8  198  199          Askersund                 11471  11377   0.826228\n",
       "9  112  112             Avesta                 23067  23178  -0.478902"
      ]
     },
     "execution_count": 19,
     "metadata": {},
     "output_type": "execute_result"
    }
   ],
   "source": [
    "# a) read in data file.\n",
    "import pandas as pd\n",
    "\n",
    "# TODO : Read in \"Totalt\" into a df. Do df.head(), df.info(). df.describe()\n",
    "df = pd.read_excel(\"../Data/komtopp50_2020.xlsx\", sheet_name=\"Totalt\", header=[5,6])  # Reading in tab \"Totalt\"  # Header reads in from row 5, fattar inte riktigt varför just 6. Men its working i guess\n",
    "\n",
    "df.head(10)\n",
    "\n",
    "# We can immediatyly see we have a lot of missing values.\n",
    "# We have columns that are unnamed \n",
    "# TODO: Columns: \"Rang2020\" -> Rang2019 -> Kommun -> folkmängd 2020 -> Folkmängd 2019 -> Förändring\n",
    "# TODO: Remove row 0-4\n",
    "# We have the rows"
   ]
  },
  {
   "cell_type": "markdown",
   "metadata": {},
   "source": [
    "# b)  your data so it looks like(see above):"
   ]
  },
  {
   "cell_type": "code",
   "execution_count": 20,
   "metadata": {},
   "outputs": [
    {
     "data": {
      "text/html": [
       "<div>\n",
       "<style scoped>\n",
       "    .dataframe tbody tr th:only-of-type {\n",
       "        vertical-align: middle;\n",
       "    }\n",
       "\n",
       "    .dataframe tbody tr th {\n",
       "        vertical-align: top;\n",
       "    }\n",
       "\n",
       "    .dataframe thead th {\n",
       "        text-align: right;\n",
       "    }\n",
       "</style>\n",
       "<table border=\"1\" class=\"dataframe\">\n",
       "  <thead>\n",
       "    <tr style=\"text-align: right;\">\n",
       "      <th></th>\n",
       "      <th>Rang 2020</th>\n",
       "      <th>Rang 2019</th>\n",
       "      <th>Kommun</th>\n",
       "      <th>Folkmängd 2020</th>\n",
       "      <th>Folkmängd 2019</th>\n",
       "      <th>Förändring %</th>\n",
       "    </tr>\n",
       "  </thead>\n",
       "  <tbody>\n",
       "    <tr>\n",
       "      <th>0</th>\n",
       "      <td>83</td>\n",
       "      <td>84</td>\n",
       "      <td>Ale</td>\n",
       "      <td>31868</td>\n",
       "      <td>31402</td>\n",
       "      <td>1.483982</td>\n",
       "    </tr>\n",
       "    <tr>\n",
       "      <th>1</th>\n",
       "      <td>64</td>\n",
       "      <td>64</td>\n",
       "      <td>Alingsås</td>\n",
       "      <td>41602</td>\n",
       "      <td>41420</td>\n",
       "      <td>0.439401</td>\n",
       "    </tr>\n",
       "    <tr>\n",
       "      <th>2</th>\n",
       "      <td>123</td>\n",
       "      <td>123</td>\n",
       "      <td>Alvesta</td>\n",
       "      <td>20224</td>\n",
       "      <td>20134</td>\n",
       "      <td>0.447005</td>\n",
       "    </tr>\n",
       "    <tr>\n",
       "      <th>3</th>\n",
       "      <td>255</td>\n",
       "      <td>255</td>\n",
       "      <td>Aneby</td>\n",
       "      <td>6821</td>\n",
       "      <td>6848</td>\n",
       "      <td>-0.394276</td>\n",
       "    </tr>\n",
       "    <tr>\n",
       "      <th>4</th>\n",
       "      <td>169</td>\n",
       "      <td>167</td>\n",
       "      <td>Arboga</td>\n",
       "      <td>14039</td>\n",
       "      <td>14087</td>\n",
       "      <td>-0.340740</td>\n",
       "    </tr>\n",
       "    <tr>\n",
       "      <th>5</th>\n",
       "      <td>287</td>\n",
       "      <td>287</td>\n",
       "      <td>Arjeplog</td>\n",
       "      <td>2718</td>\n",
       "      <td>2785</td>\n",
       "      <td>-2.405745</td>\n",
       "    </tr>\n",
       "    <tr>\n",
       "      <th>6</th>\n",
       "      <td>261</td>\n",
       "      <td>261</td>\n",
       "      <td>Arvidsjaur</td>\n",
       "      <td>6145</td>\n",
       "      <td>6220</td>\n",
       "      <td>-1.205788</td>\n",
       "    </tr>\n",
       "    <tr>\n",
       "      <th>7</th>\n",
       "      <td>103</td>\n",
       "      <td>102</td>\n",
       "      <td>Arvika</td>\n",
       "      <td>25932</td>\n",
       "      <td>26045</td>\n",
       "      <td>-0.433864</td>\n",
       "    </tr>\n",
       "    <tr>\n",
       "      <th>8</th>\n",
       "      <td>198</td>\n",
       "      <td>199</td>\n",
       "      <td>Askersund</td>\n",
       "      <td>11471</td>\n",
       "      <td>11377</td>\n",
       "      <td>0.826228</td>\n",
       "    </tr>\n",
       "    <tr>\n",
       "      <th>9</th>\n",
       "      <td>112</td>\n",
       "      <td>112</td>\n",
       "      <td>Avesta</td>\n",
       "      <td>23067</td>\n",
       "      <td>23178</td>\n",
       "      <td>-0.478902</td>\n",
       "    </tr>\n",
       "  </tbody>\n",
       "</table>\n",
       "</div>"
      ],
      "text/plain": [
       "   Rang 2020  Rang 2019      Kommun  Folkmängd 2020  Folkmängd 2019  \\\n",
       "0         83         84         Ale           31868           31402   \n",
       "1         64         64    Alingsås           41602           41420   \n",
       "2        123        123     Alvesta           20224           20134   \n",
       "3        255        255       Aneby            6821            6848   \n",
       "4        169        167      Arboga           14039           14087   \n",
       "5        287        287    Arjeplog            2718            2785   \n",
       "6        261        261  Arvidsjaur            6145            6220   \n",
       "7        103        102      Arvika           25932           26045   \n",
       "8        198        199   Askersund           11471           11377   \n",
       "9        112        112      Avesta           23067           23178   \n",
       "\n",
       "   Förändring %  \n",
       "0      1.483982  \n",
       "1      0.439401  \n",
       "2      0.447005  \n",
       "3     -0.394276  \n",
       "4     -0.340740  \n",
       "5     -2.405745  \n",
       "6     -1.205788  \n",
       "7     -0.433864  \n",
       "8      0.826228  \n",
       "9     -0.478902  "
      ]
     },
     "execution_count": 20,
     "metadata": {},
     "output_type": "execute_result"
    }
   ],
   "source": [
    "#  I want to delete some labels in the columns.\n",
    "\n",
    "df2 = df[:]  # Returns all elements -> [:]\n",
    "df2\n",
    "\n",
    "names = [\n",
    "    \"Rang 2020\",\n",
    "    \"Rang 2019\",\n",
    "    \"Kommun\",\n",
    "    \"Folkmängd 2020\",\n",
    "    \"Folkmängd 2019\",\n",
    "    \"Förändring %\",\n",
    "]\n",
    "\n",
    "df2.columns = names  # Gives list into the columns. \n",
    "df2.head(10)"
   ]
  },
  {
   "cell_type": "markdown",
   "metadata": {},
   "source": [
    "&nbsp; c) Sort the cities by population from largest to smallest. (*)"
   ]
  },
  {
   "cell_type": "code",
   "execution_count": 21,
   "metadata": {},
   "outputs": [
    {
     "data": {
      "text/html": [
       "<div>\n",
       "<style scoped>\n",
       "    .dataframe tbody tr th:only-of-type {\n",
       "        vertical-align: middle;\n",
       "    }\n",
       "\n",
       "    .dataframe tbody tr th {\n",
       "        vertical-align: top;\n",
       "    }\n",
       "\n",
       "    .dataframe thead th {\n",
       "        text-align: right;\n",
       "    }\n",
       "</style>\n",
       "<table border=\"1\" class=\"dataframe\">\n",
       "  <thead>\n",
       "    <tr style=\"text-align: right;\">\n",
       "      <th></th>\n",
       "      <th>Rang 2020</th>\n",
       "      <th>Rang 2019</th>\n",
       "      <th>Kommun</th>\n",
       "      <th>Folkmängd 2020</th>\n",
       "      <th>Folkmängd 2019</th>\n",
       "      <th>Förändring %</th>\n",
       "    </tr>\n",
       "  </thead>\n",
       "  <tbody>\n",
       "    <tr>\n",
       "      <th>0</th>\n",
       "      <td>1</td>\n",
       "      <td>1</td>\n",
       "      <td>Stockholm</td>\n",
       "      <td>975551</td>\n",
       "      <td>974073</td>\n",
       "      <td>0.151734</td>\n",
       "    </tr>\n",
       "    <tr>\n",
       "      <th>1</th>\n",
       "      <td>2</td>\n",
       "      <td>2</td>\n",
       "      <td>Göteborg</td>\n",
       "      <td>583056</td>\n",
       "      <td>579281</td>\n",
       "      <td>0.651670</td>\n",
       "    </tr>\n",
       "    <tr>\n",
       "      <th>2</th>\n",
       "      <td>3</td>\n",
       "      <td>3</td>\n",
       "      <td>Malmö</td>\n",
       "      <td>347949</td>\n",
       "      <td>344166</td>\n",
       "      <td>1.099179</td>\n",
       "    </tr>\n",
       "    <tr>\n",
       "      <th>3</th>\n",
       "      <td>4</td>\n",
       "      <td>4</td>\n",
       "      <td>Uppsala</td>\n",
       "      <td>233839</td>\n",
       "      <td>230767</td>\n",
       "      <td>1.331213</td>\n",
       "    </tr>\n",
       "    <tr>\n",
       "      <th>4</th>\n",
       "      <td>5</td>\n",
       "      <td>5</td>\n",
       "      <td>Linköping</td>\n",
       "      <td>164616</td>\n",
       "      <td>163051</td>\n",
       "      <td>0.959822</td>\n",
       "    </tr>\n",
       "  </tbody>\n",
       "</table>\n",
       "</div>"
      ],
      "text/plain": [
       "   Rang 2020  Rang 2019     Kommun  Folkmängd 2020  Folkmängd 2019  \\\n",
       "0          1          1  Stockholm          975551          974073   \n",
       "1          2          2   Göteborg          583056          579281   \n",
       "2          3          3      Malmö          347949          344166   \n",
       "3          4          4    Uppsala          233839          230767   \n",
       "4          5          5  Linköping          164616          163051   \n",
       "\n",
       "   Förändring %  \n",
       "0      0.151734  \n",
       "1      0.651670  \n",
       "2      1.099179  \n",
       "3      1.331213  \n",
       "4      0.959822  "
      ]
     },
     "execution_count": 21,
     "metadata": {},
     "output_type": "execute_result"
    }
   ],
   "source": [
    "df2_sorted = df2.sort_values(by=\"Rang 2020\", ascending = True, ignore_index=True)   # Same as i did in the first assignment, but added ignore_index = True\n",
    "\n",
    "# ignore_index gör så att du kan kontrollera det nya registret(indexet) av den nya outputen. Default är false. Eftersom jag satte True så kommer pandas ignorera index värdena i input och\n",
    "# ge ett nytt index för outputen (Den stapeln längst till vänster som är 0, 1, 2 osv.)\n",
    "\n",
    "df2_sorted.head()\n"
   ]
  },
  {
   "cell_type": "markdown",
   "metadata": {},
   "source": [
    "&nbsp; d) Filter out the five smallest cities. (*)"
   ]
  },
  {
   "cell_type": "code",
   "execution_count": 22,
   "metadata": {},
   "outputs": [
    {
     "data": {
      "text/html": [
       "<div>\n",
       "<style scoped>\n",
       "    .dataframe tbody tr th:only-of-type {\n",
       "        vertical-align: middle;\n",
       "    }\n",
       "\n",
       "    .dataframe tbody tr th {\n",
       "        vertical-align: top;\n",
       "    }\n",
       "\n",
       "    .dataframe thead th {\n",
       "        text-align: right;\n",
       "    }\n",
       "</style>\n",
       "<table border=\"1\" class=\"dataframe\">\n",
       "  <thead>\n",
       "    <tr style=\"text-align: right;\">\n",
       "      <th></th>\n",
       "      <th>Rang 2020</th>\n",
       "      <th>Rang 2019</th>\n",
       "      <th>Kommun</th>\n",
       "      <th>Folkmängd 2020</th>\n",
       "      <th>Folkmängd 2019</th>\n",
       "      <th>Förändring %</th>\n",
       "    </tr>\n",
       "  </thead>\n",
       "  <tbody>\n",
       "    <tr>\n",
       "      <th>0</th>\n",
       "      <td>290</td>\n",
       "      <td>290</td>\n",
       "      <td>Bjurholm</td>\n",
       "      <td>2387</td>\n",
       "      <td>2408</td>\n",
       "      <td>-0.872093</td>\n",
       "    </tr>\n",
       "    <tr>\n",
       "      <th>1</th>\n",
       "      <td>289</td>\n",
       "      <td>289</td>\n",
       "      <td>Sorsele</td>\n",
       "      <td>2442</td>\n",
       "      <td>2489</td>\n",
       "      <td>-1.888309</td>\n",
       "    </tr>\n",
       "    <tr>\n",
       "      <th>2</th>\n",
       "      <td>288</td>\n",
       "      <td>288</td>\n",
       "      <td>Dorotea</td>\n",
       "      <td>2498</td>\n",
       "      <td>2551</td>\n",
       "      <td>-2.077617</td>\n",
       "    </tr>\n",
       "    <tr>\n",
       "      <th>3</th>\n",
       "      <td>287</td>\n",
       "      <td>287</td>\n",
       "      <td>Arjeplog</td>\n",
       "      <td>2718</td>\n",
       "      <td>2785</td>\n",
       "      <td>-2.405745</td>\n",
       "    </tr>\n",
       "    <tr>\n",
       "      <th>4</th>\n",
       "      <td>286</td>\n",
       "      <td>286</td>\n",
       "      <td>Åsele</td>\n",
       "      <td>2805</td>\n",
       "      <td>2794</td>\n",
       "      <td>0.393701</td>\n",
       "    </tr>\n",
       "  </tbody>\n",
       "</table>\n",
       "</div>"
      ],
      "text/plain": [
       "   Rang 2020  Rang 2019    Kommun  Folkmängd 2020  Folkmängd 2019  \\\n",
       "0        290        290  Bjurholm            2387            2408   \n",
       "1        289        289   Sorsele            2442            2489   \n",
       "2        288        288   Dorotea            2498            2551   \n",
       "3        287        287  Arjeplog            2718            2785   \n",
       "4        286        286     Åsele            2805            2794   \n",
       "\n",
       "   Förändring %  \n",
       "0     -0.872093  \n",
       "1     -1.888309  \n",
       "2     -2.077617  \n",
       "3     -2.405745  \n",
       "4      0.393701  "
      ]
     },
     "execution_count": 22,
     "metadata": {},
     "output_type": "execute_result"
    }
   ],
   "source": [
    "df3_sorted = df2.sort_values(by=\"Rang 2020\", ascending = False, ignore_index=True)\n",
    "df3_sorted.head(5)"
   ]
  },
  {
   "cell_type": "markdown",
   "metadata": {},
   "source": [
    "&nbsp; e) Use the DataFrame to calculate Sweden's population in 2019 and 2020. (*)"
   ]
  },
  {
   "cell_type": "code",
   "execution_count": 23,
   "metadata": {},
   "outputs": [
    {
     "data": {
      "text/plain": [
       "Rang 2020                                                     42195\n",
       "Rang 2019                                                     42194\n",
       "Kommun            StockholmGöteborgMalmöUppsalaLinköpingÖrebroVä...\n",
       "Folkmängd 2020                                             10379295\n",
       "Folkmängd 2019                                             10327589\n",
       "Förändring %                                              44.854988\n",
       "dtype: object"
      ]
     },
     "execution_count": 23,
     "metadata": {},
     "output_type": "execute_result"
    }
   ],
   "source": [
    "df2_sorted.sum()"
   ]
  },
  {
   "cell_type": "markdown",
   "metadata": {},
   "source": [
    "&nbsp; f) Plot a bar chart for the five largest cities and the five smallest cities. (*) "
   ]
  },
  {
   "cell_type": "code",
   "execution_count": 24,
   "metadata": {},
   "outputs": [],
   "source": [
    "# YEESSS SSIR TIME TO PLOT THIS SHIET\n",
    "\n",
    "#import matplotlib.pyplot as plt\n",
    "\n",
    "#fig, axes = plt.subplots(1,3, figsize = (16), )"
   ]
  },
  {
   "cell_type": "markdown",
   "metadata": {},
   "source": [
    "## 3. Cities in Sweden - gender (*)\n",
    "\n",
    "We continue with the same Excel-file as in task 2, but now you should also read in the sheets \"Kvinnor\" and \"Män\" into two additional DataFrames. In this task, many operations are similar to all three datasets, try creating custom made functions to reuse as much code as possible.\n",
    "\n",
    "&nbsp; a) Clean your data so that the head looks like this: (*)\n",
    "\n",
    "Male: \n",
    "\n",
    "|    |   Rang 2020 |   Rang 2019 | Kommun   |   Folkmängd 2020 |   Folkmängd 2019 |   Förändring | Kön   |\n",
    "|---:|------------:|------------:|:---------|-----------------:|-----------------:|-------------:|:------|\n",
    "|  0 |          81 |          83 | Ale      |            16256 |            16054 |     1.25825  | Man   |\n",
    "|  1 |          64 |          64 | Alingsås |            20702 |            20646 |     0.271239 | Man   |\n",
    "|  2 |         122 |         123 | Alvesta  |            10367 |            10339 |     0.270819 | Man   |\n",
    "|  3 |         255 |         255 | Aneby    |             3503 |             3498 |     0.142939 | Man   |\n",
    "|  4 |         169 |         168 | Arboga   |             7094 |             7114 |    -0.281136 | Man   |\n",
    "\n",
    "Female: \n",
    "\n",
    "|    |   Rang 2020 |   Rang 2019 | Kommun   |   Folkmängd 2020 |   Folkmängd 2019 |   Förändring | Kön    |\n",
    "|---:|------------:|------------:|:---------|-----------------:|-----------------:|-------------:|:-------|\n",
    "|  0 |          84 |          85 | Ale      |            15612 |            15348 |     1.72009  | Kvinna |\n",
    "|  1 |          64 |          64 | Alingsås |            20900 |            20774 |     0.606527 | Kvinna |\n",
    "|  2 |         123 |         123 | Alvesta  |             9857 |             9795 |     0.632976 | Kvinna |\n",
    "|  3 |         255 |         255 | Aneby    |             3318 |             3350 |    -0.955224 | Kvinna |\n",
    "|  4 |         165 |         164 | Arboga   |             6945 |             6973 |    -0.401549 | Kvinna |\n",
    "\n",
    "\n",
    "&nbsp; b) Merge the male and female DataFrames vertically and set index to \"Kommun\". Note that there now should be 580 rows now.  (*)\n",
    "\n",
    "|    | Kommun   |   Folkmängd 2020 |   Folkmängd 2019 |   Förändring | Kön   |\n",
    "|---:|:---------|-----------------:|-----------------:|-------------:|:------|\n",
    "|  0 | Ale      |            16256 |            16054 |     1.25825  | Man   |\n",
    "|  1 | Alingsås |            20702 |            20646 |     0.271239 | Man   |\n",
    "|   ...  | ...       | ...  | ...   | ...  | ...    |\n",
    "| 288 | Överkalix    |             1559 |             1578 |    -1.20406  | Kvinna |\n",
    "| 289 | Övertorneå   |             2027 |             2065 |    -1.84019  | Kvinna |\n",
    "\n",
    "&nbsp; c) Extract and change column name from the total DataFrame so that the head look like this: (*) \n",
    "\n",
    "|    | Kommun   |   Total Pop 2020 |   Total Pop 2019 |   Total förändring |\n",
    "|---:|:---------|-----------------:|-----------------:|-------------------:|\n",
    "|  0 | Ale      |            31868 |            31402 |           1.48398  |\n",
    "|  1 | Alingsås |            41602 |            41420 |           0.439401 |\n",
    "|  2 | Alvesta  |            20224 |            20134 |           0.447005 |\n",
    "|  3 | Aneby    |             6821 |             6848 |          -0.394276 |\n",
    "|  4 | Arboga   |            14039 |            14087 |          -0.34074  |\n",
    "\n",
    "&nbsp; d) Merge this data with the data in b) so that the head look like this: (*)\n",
    "\n",
    "| Kommun    |   Folkmängd 2020 |   Folkmängd 2019 |   Förändring | Kön    |   Total Pop 2020 |   Total Pop 2019 |   Total förändring |\n",
    "|:----------|-----------------:|-----------------:|-------------:|:-------|-----------------:|-----------------:|-------------------:|\n",
    "| Stockholm |           482982 |           482220 |     0.158019 | Man    |           975551 |           974073 |           0.151734 |\n",
    "| Stockholm |           492569 |           491853 |     0.145572 | Kvinna |           975551 |           974073 |           0.151734 |\n",
    "| Göteborg  |           292505 |           290308 |     0.756782 | Man    |           583056 |           579281 |           0.65167  |\n",
    "| Göteborg  |           290551 |           288973 |     0.546072 | Kvinna |           583056 |           579281 |           0.65167  |\n",
    "| Malmö     |           175411 |           173543 |     1.07639  | Kvinna |           347949 |           344166 |           1.09918  |\n",
    "\n",
    "&nbsp; e) Create barplots showing the gender populations of Swedens 10 largest and 10 smallest cities. (*) \n",
    " \n",
    "&nbsp; f) Create a pie chart showing the total male and female population in Sweden 2020. (*)\n",
    "\n",
    "&nbsp; g) Create a barplot showing the cities with the five largest percentual gender difference in 2020. (**)\n",
    "\n",
    "&nbsp; h) Create a barplot showing the top 5 cities with largest populational growth from 2019 to 2020 (**)\n",
    "\n",
    "&nbsp; i) Feel free to investigate other questions you are interested in using these datasets. (*), (**)\n",
    "\n",
    "<br/>"
   ]
  },
  {
   "cell_type": "code",
   "execution_count": 25,
   "metadata": {},
   "outputs": [
    {
     "data": {
      "text/html": [
       "<div>\n",
       "<style scoped>\n",
       "    .dataframe tbody tr th:only-of-type {\n",
       "        vertical-align: middle;\n",
       "    }\n",
       "\n",
       "    .dataframe tbody tr th {\n",
       "        vertical-align: top;\n",
       "    }\n",
       "\n",
       "    .dataframe thead th {\n",
       "        text-align: right;\n",
       "    }\n",
       "</style>\n",
       "<table border=\"1\" class=\"dataframe\">\n",
       "  <thead>\n",
       "    <tr style=\"text-align: right;\">\n",
       "      <th></th>\n",
       "      <th>2020</th>\n",
       "      <th>2019</th>\n",
       "      <th>Unnamed: 2</th>\n",
       "      <th>2020.1</th>\n",
       "      <th>2019.1</th>\n",
       "      <th>%</th>\n",
       "    </tr>\n",
       "  </thead>\n",
       "  <tbody>\n",
       "    <tr>\n",
       "      <th>0</th>\n",
       "      <td>84</td>\n",
       "      <td>85</td>\n",
       "      <td>Ale</td>\n",
       "      <td>15612</td>\n",
       "      <td>15348</td>\n",
       "      <td>1.720094</td>\n",
       "    </tr>\n",
       "    <tr>\n",
       "      <th>1</th>\n",
       "      <td>64</td>\n",
       "      <td>64</td>\n",
       "      <td>Alingsås</td>\n",
       "      <td>20900</td>\n",
       "      <td>20774</td>\n",
       "      <td>0.606527</td>\n",
       "    </tr>\n",
       "    <tr>\n",
       "      <th>2</th>\n",
       "      <td>123</td>\n",
       "      <td>123</td>\n",
       "      <td>Alvesta</td>\n",
       "      <td>9857</td>\n",
       "      <td>9795</td>\n",
       "      <td>0.632976</td>\n",
       "    </tr>\n",
       "    <tr>\n",
       "      <th>3</th>\n",
       "      <td>255</td>\n",
       "      <td>255</td>\n",
       "      <td>Aneby</td>\n",
       "      <td>3318</td>\n",
       "      <td>3350</td>\n",
       "      <td>-0.955224</td>\n",
       "    </tr>\n",
       "    <tr>\n",
       "      <th>4</th>\n",
       "      <td>165</td>\n",
       "      <td>164</td>\n",
       "      <td>Arboga</td>\n",
       "      <td>6945</td>\n",
       "      <td>6973</td>\n",
       "      <td>-0.401549</td>\n",
       "    </tr>\n",
       "    <tr>\n",
       "      <th>5</th>\n",
       "      <td>287</td>\n",
       "      <td>287</td>\n",
       "      <td>Arjeplog</td>\n",
       "      <td>1292</td>\n",
       "      <td>1327</td>\n",
       "      <td>-2.637528</td>\n",
       "    </tr>\n",
       "    <tr>\n",
       "      <th>6</th>\n",
       "      <td>260</td>\n",
       "      <td>260</td>\n",
       "      <td>Arvidsjaur</td>\n",
       "      <td>2977</td>\n",
       "      <td>3038</td>\n",
       "      <td>-2.0079</td>\n",
       "    </tr>\n",
       "  </tbody>\n",
       "</table>\n",
       "</div>"
      ],
      "text/plain": [
       "   2020  2019  Unnamed: 2  2020.1  2019.1         %\n",
       "0    84    85         Ale   15612   15348  1.720094\n",
       "1    64    64    Alingsås   20900   20774  0.606527\n",
       "2   123   123     Alvesta    9857    9795  0.632976\n",
       "3   255   255       Aneby    3318    3350 -0.955224\n",
       "4   165   164      Arboga    6945    6973 -0.401549\n",
       "5   287   287    Arjeplog    1292    1327 -2.637528\n",
       "6   260   260  Arvidsjaur    2977    3038   -2.0079"
      ]
     },
     "execution_count": 25,
     "metadata": {},
     "output_type": "execute_result"
    }
   ],
   "source": [
    " # a) Clean your data so that the head looks like this:\n",
    "\n",
    "\n",
    "df_total = df3_sorted.sort_values(by=\"Folkmängd 2020\", ascending = False)  \n",
    "df_total\n",
    "\n",
    "# We want to take\n",
    "# TODO: Read in 2 df\n",
    "file_path = \"../Data/komtopp50_2020.xlsx\"\n",
    "sheet_names = [\"Kvinnor\", \"Män\"]  # Making variable for both \n",
    "\n",
    "\n",
    "df_dict = pd.read_excel(file_path, sheet_name = sheet_names, skiprows = 6)  # Reading in tab \"Totalt\"  # Header reads in from row 5, fattar inte riktigt varför just 6. Men its working i guess\n",
    "\n",
    "df_dict[\"Kvinnor\"].head(7)\n"
   ]
  },
  {
   "cell_type": "code",
   "execution_count": 26,
   "metadata": {},
   "outputs": [
    {
     "data": {
      "text/plain": [
       "{'Kvinnor':      2020  2019    Unnamed: 2  2020.1  2019.1         %\n",
       " 0      84    85           Ale   15612   15348  1.720094\n",
       " 1      64    64      Alingsås   20900   20774  0.606527\n",
       " 2     123   123       Alvesta    9857    9795  0.632976\n",
       " 3     255   255         Aneby    3318    3350 -0.955224\n",
       " 4     165   164        Arboga    6945    6973 -0.401549\n",
       " ..    ...   ...           ...     ...     ...       ...\n",
       " 285    55    57     Österåker   22997   22442  2.473042\n",
       " 286   117   118     Östhammar   10846   10803  0.398038\n",
       " 287   160   159  Östra Göinge    7270    7262  0.110162\n",
       " 288   284   284     Överkalix    1559    1578 -1.204056\n",
       " 289   279   279    Övertorneå    2027    2065 -1.840194\n",
       " \n",
       " [290 rows x 6 columns],\n",
       " 'Män':      2020  2019    Unnamed: 2  2020.1  2019.1         %\n",
       " 0      81    83           Ale   16256   16054  1.258253\n",
       " 1      64    64      Alingsås   20702   20646  0.271239\n",
       " 2     122   123       Alvesta   10367   10339  0.270819\n",
       " 3     255   255         Aneby    3503    3498  0.142939\n",
       " 4     169   168        Arboga    7094    7114 -0.281136\n",
       " ..    ...   ...           ...     ...     ...       ...\n",
       " 285    52    55     Österåker   23647   23132  2.226353\n",
       " 286   115   115     Östhammar   11405   11447 -0.366908\n",
       " 287   158   156  Östra Göinge    7747    7745  0.025823\n",
       " 288   284   284     Överkalix    1730    1737 -0.402994\n",
       " 289   279   279    Övertorneå    2190    2234 -1.969561\n",
       " \n",
       " [290 rows x 6 columns]}"
      ]
     },
     "execution_count": 26,
     "metadata": {},
     "output_type": "execute_result"
    }
   ],
   "source": [
    "df_dict"
   ]
  },
  {
   "cell_type": "code",
   "execution_count": 27,
   "metadata": {},
   "outputs": [
    {
     "data": {
      "text/html": [
       "<div>\n",
       "<style scoped>\n",
       "    .dataframe tbody tr th:only-of-type {\n",
       "        vertical-align: middle;\n",
       "    }\n",
       "\n",
       "    .dataframe tbody tr th {\n",
       "        vertical-align: top;\n",
       "    }\n",
       "\n",
       "    .dataframe thead th {\n",
       "        text-align: right;\n",
       "    }\n",
       "</style>\n",
       "<table border=\"1\" class=\"dataframe\">\n",
       "  <thead>\n",
       "    <tr style=\"text-align: right;\">\n",
       "      <th></th>\n",
       "      <th>Rang 2020</th>\n",
       "      <th>Rang 2019</th>\n",
       "      <th>Kommun</th>\n",
       "      <th>Folkmängd 2020</th>\n",
       "      <th>Folkmängd 2019</th>\n",
       "      <th>Förändring</th>\n",
       "      <th>Kön</th>\n",
       "    </tr>\n",
       "  </thead>\n",
       "  <tbody>\n",
       "    <tr>\n",
       "      <th>0</th>\n",
       "      <td>84</td>\n",
       "      <td>85</td>\n",
       "      <td>Ale</td>\n",
       "      <td>15612</td>\n",
       "      <td>15348</td>\n",
       "      <td>1.720094</td>\n",
       "      <td>Kvinnor</td>\n",
       "    </tr>\n",
       "    <tr>\n",
       "      <th>1</th>\n",
       "      <td>64</td>\n",
       "      <td>64</td>\n",
       "      <td>Alingsås</td>\n",
       "      <td>20900</td>\n",
       "      <td>20774</td>\n",
       "      <td>0.606527</td>\n",
       "      <td>Kvinnor</td>\n",
       "    </tr>\n",
       "    <tr>\n",
       "      <th>2</th>\n",
       "      <td>123</td>\n",
       "      <td>123</td>\n",
       "      <td>Alvesta</td>\n",
       "      <td>9857</td>\n",
       "      <td>9795</td>\n",
       "      <td>0.632976</td>\n",
       "      <td>Kvinnor</td>\n",
       "    </tr>\n",
       "    <tr>\n",
       "      <th>3</th>\n",
       "      <td>255</td>\n",
       "      <td>255</td>\n",
       "      <td>Aneby</td>\n",
       "      <td>3318</td>\n",
       "      <td>3350</td>\n",
       "      <td>-0.955224</td>\n",
       "      <td>Kvinnor</td>\n",
       "    </tr>\n",
       "    <tr>\n",
       "      <th>4</th>\n",
       "      <td>165</td>\n",
       "      <td>164</td>\n",
       "      <td>Arboga</td>\n",
       "      <td>6945</td>\n",
       "      <td>6973</td>\n",
       "      <td>-0.401549</td>\n",
       "      <td>Kvinnor</td>\n",
       "    </tr>\n",
       "  </tbody>\n",
       "</table>\n",
       "</div>"
      ],
      "text/plain": [
       "   Rang 2020  Rang 2019    Kommun  Folkmängd 2020  Folkmängd 2019 Förändring  \\\n",
       "0         84         85       Ale           15612           15348   1.720094   \n",
       "1         64         64  Alingsås           20900           20774   0.606527   \n",
       "2        123        123   Alvesta            9857            9795   0.632976   \n",
       "3        255        255     Aneby            3318            3350  -0.955224   \n",
       "4        165        164    Arboga            6945            6973  -0.401549   \n",
       "\n",
       "       Kön  \n",
       "0  Kvinnor  \n",
       "1  Kvinnor  \n",
       "2  Kvinnor  \n",
       "3  Kvinnor  \n",
       "4  Kvinnor  "
      ]
     },
     "execution_count": 27,
     "metadata": {},
     "output_type": "execute_result"
    }
   ],
   "source": [
    "for sheet_name in df_dict:  # updating missing column name of all DataFrames in dict:\n",
    "    df_dict[sheet_name].rename(\n",
    "        columns={\n",
    "            2020: \"Rang 2020\",\n",
    "            2019: \"Rang 2019\", \n",
    "            \"Unnamed: 2\": \"Kommun\",\n",
    "            \"2020.1\": \"Folkmängd 2020\",\n",
    "            \"2019.1\": \"Folkmängd 2019\",\n",
    "            \"%\": \"Förändring\",\n",
    "        },\n",
    "        inplace=True,\n",
    "    )\n",
    "    df_dict[sheet_name][\"Kön\"] = sheet_name\n",
    "df_dict[\"Kvinnor\"].head(5)"
   ]
  },
  {
   "cell_type": "markdown",
   "metadata": {},
   "source": [
    "&nbsp; b) Merge the male and female DataFrames vertically and set index to \"Kommun\". Note that there now should be 580 rows now.  (*)\n",
    "\n",
    "|    | Kommun   |   Folkmängd 2020 |   Folkmängd 2019 |   Förändring | Kön   |\n",
    "|---:|:---------|-----------------:|-----------------:|-------------:|:------|\n",
    "|  0 | Ale      |            16256 |            16054 |     1.25825  | Man   |\n",
    "|  1 | Alingsås |            20702 |            20646 |     0.271239 | Man   |\n",
    "|   ...  | ...       | ...  | ...   | ...  | ...    |\n",
    "| 288 | Överkalix    |             1559 |             1578 |    -1.20406  | Kvinna |\n",
    "| 289 | Övertorneå   |             2027 |             2065 |    -1.84019  | Kvinna |"
   ]
  },
  {
   "cell_type": "code",
   "execution_count": 28,
   "metadata": {},
   "outputs": [
    {
     "data": {
      "text/html": [
       "<div>\n",
       "<style scoped>\n",
       "    .dataframe tbody tr th:only-of-type {\n",
       "        vertical-align: middle;\n",
       "    }\n",
       "\n",
       "    .dataframe tbody tr th {\n",
       "        vertical-align: top;\n",
       "    }\n",
       "\n",
       "    .dataframe thead th {\n",
       "        text-align: right;\n",
       "    }\n",
       "</style>\n",
       "<table border=\"1\" class=\"dataframe\">\n",
       "  <thead>\n",
       "    <tr style=\"text-align: right;\">\n",
       "      <th></th>\n",
       "      <th>Kommun</th>\n",
       "      <th>Folkmängd 2020</th>\n",
       "      <th>Folkmängd 2019</th>\n",
       "      <th>Förändring</th>\n",
       "      <th>Kön</th>\n",
       "    </tr>\n",
       "  </thead>\n",
       "  <tbody>\n",
       "    <tr>\n",
       "      <th>0</th>\n",
       "      <td>Ale</td>\n",
       "      <td>15612</td>\n",
       "      <td>15348</td>\n",
       "      <td>1.720094</td>\n",
       "      <td>Kvinnor</td>\n",
       "    </tr>\n",
       "  </tbody>\n",
       "</table>\n",
       "</div>"
      ],
      "text/plain": [
       "  Kommun  Folkmängd 2020  Folkmängd 2019 Förändring      Kön\n",
       "0    Ale           15612           15348   1.720094  Kvinnor"
      ]
     },
     "execution_count": 28,
     "metadata": {},
     "output_type": "execute_result"
    }
   ],
   "source": [
    "df = pd.concat([df_dict[\"Kvinnor\"], df_dict[\"Män\"]]).drop([\"Rang 2020\", \"Rang 2019\"], axis = \"columns\")\n",
    "df.head(1)\n",
    "\n",
    "# axis är antingen columns eller rows, det är det man får definera"
   ]
  },
  {
   "cell_type": "code",
   "execution_count": 29,
   "metadata": {},
   "outputs": [
    {
     "data": {
      "text/html": [
       "<div>\n",
       "<style scoped>\n",
       "    .dataframe tbody tr th:only-of-type {\n",
       "        vertical-align: middle;\n",
       "    }\n",
       "\n",
       "    .dataframe tbody tr th {\n",
       "        vertical-align: top;\n",
       "    }\n",
       "\n",
       "    .dataframe thead th {\n",
       "        text-align: right;\n",
       "    }\n",
       "</style>\n",
       "<table border=\"1\" class=\"dataframe\">\n",
       "  <thead>\n",
       "    <tr style=\"text-align: right;\">\n",
       "      <th></th>\n",
       "      <th>Kommun</th>\n",
       "      <th>Folkmängd 2020</th>\n",
       "      <th>Folkmängd 2019</th>\n",
       "      <th>Förändring</th>\n",
       "      <th>Kön</th>\n",
       "    </tr>\n",
       "  </thead>\n",
       "  <tbody>\n",
       "    <tr>\n",
       "      <th>0</th>\n",
       "      <td>Ale</td>\n",
       "      <td>15612</td>\n",
       "      <td>15348</td>\n",
       "      <td>1.720094</td>\n",
       "      <td>Kvinnor</td>\n",
       "    </tr>\n",
       "    <tr>\n",
       "      <th>1</th>\n",
       "      <td>Alingsås</td>\n",
       "      <td>20900</td>\n",
       "      <td>20774</td>\n",
       "      <td>0.606527</td>\n",
       "      <td>Kvinnor</td>\n",
       "    </tr>\n",
       "    <tr>\n",
       "      <th>2</th>\n",
       "      <td>Alvesta</td>\n",
       "      <td>9857</td>\n",
       "      <td>9795</td>\n",
       "      <td>0.632976</td>\n",
       "      <td>Kvinnor</td>\n",
       "    </tr>\n",
       "    <tr>\n",
       "      <th>3</th>\n",
       "      <td>Aneby</td>\n",
       "      <td>3318</td>\n",
       "      <td>3350</td>\n",
       "      <td>-0.955224</td>\n",
       "      <td>Kvinnor</td>\n",
       "    </tr>\n",
       "    <tr>\n",
       "      <th>4</th>\n",
       "      <td>Arboga</td>\n",
       "      <td>6945</td>\n",
       "      <td>6973</td>\n",
       "      <td>-0.401549</td>\n",
       "      <td>Kvinnor</td>\n",
       "    </tr>\n",
       "  </tbody>\n",
       "</table>\n",
       "</div>"
      ],
      "text/plain": [
       "     Kommun  Folkmängd 2020  Folkmängd 2019 Förändring      Kön\n",
       "0       Ale           15612           15348   1.720094  Kvinnor\n",
       "1  Alingsås           20900           20774   0.606527  Kvinnor\n",
       "2   Alvesta            9857            9795   0.632976  Kvinnor\n",
       "3     Aneby            3318            3350  -0.955224  Kvinnor\n",
       "4    Arboga            6945            6973  -0.401549  Kvinnor"
      ]
     },
     "execution_count": 29,
     "metadata": {},
     "output_type": "execute_result"
    }
   ],
   "source": [
    "# Slå ihop male och female \n",
    "\n",
    "df = pd.concat([df_dict[\"Kvinnor\"], df_dict [\"Män\"]])\n",
    "df.drop([\"Rang 2020\", \"Rang 2019\"], axis= \"columns\", inplace= True)\n",
    "df.head()"
   ]
  },
  {
   "cell_type": "markdown",
   "metadata": {},
   "source": [
    "&nbsp; d) Merge this data with the data in b) so that the head look like this: (*)\n",
    "\n",
    "| Kommun    |   Folkmängd 2020 |   Folkmängd 2019 |   Förändring | Kön    |   Total Pop 2020 |   Total Pop 2019 |   Total förändring |\n",
    "|:----------|-----------------:|-----------------:|-------------:|:-------|-----------------:|-----------------:|-------------------:|\n",
    "| Stockholm |           482982 |           482220 |     0.158019 | Man    |           975551 |           974073 |           0.151734 |\n",
    "| Stockholm |           492569 |           491853 |     0.145572 | Kvinna |           975551 |           974073 |           0.151734 |\n",
    "| Göteborg  |           292505 |           290308 |     0.756782 | Man    |           583056 |           579281 |           0.65167  |\n",
    "| Göteborg  |           290551 |           288973 |     0.546072 | Kvinna |           583056 |           579281 |           0.65167  |\n",
    "| Malmö     |           175411 |           173543 |     1.07639  | Kvinna |           347949 |           344166 |           1.09918  |"
   ]
  },
  {
   "cell_type": "code",
   "execution_count": 30,
   "metadata": {},
   "outputs": [
    {
     "data": {
      "text/html": [
       "<div>\n",
       "<style scoped>\n",
       "    .dataframe tbody tr th:only-of-type {\n",
       "        vertical-align: middle;\n",
       "    }\n",
       "\n",
       "    .dataframe tbody tr th {\n",
       "        vertical-align: top;\n",
       "    }\n",
       "\n",
       "    .dataframe thead th {\n",
       "        text-align: right;\n",
       "    }\n",
       "</style>\n",
       "<table border=\"1\" class=\"dataframe\">\n",
       "  <thead>\n",
       "    <tr style=\"text-align: right;\">\n",
       "      <th></th>\n",
       "      <th>Kommun</th>\n",
       "      <th>Total pop 2020</th>\n",
       "      <th>Total pop 2019</th>\n",
       "      <th>Total förändring</th>\n",
       "    </tr>\n",
       "  </thead>\n",
       "  <tbody>\n",
       "    <tr>\n",
       "      <th>289</th>\n",
       "      <td>Stockholm</td>\n",
       "      <td>975551</td>\n",
       "      <td>974073</td>\n",
       "      <td>0.151734</td>\n",
       "    </tr>\n",
       "    <tr>\n",
       "      <th>288</th>\n",
       "      <td>Göteborg</td>\n",
       "      <td>583056</td>\n",
       "      <td>579281</td>\n",
       "      <td>0.651670</td>\n",
       "    </tr>\n",
       "    <tr>\n",
       "      <th>287</th>\n",
       "      <td>Malmö</td>\n",
       "      <td>347949</td>\n",
       "      <td>344166</td>\n",
       "      <td>1.099179</td>\n",
       "    </tr>\n",
       "    <tr>\n",
       "      <th>286</th>\n",
       "      <td>Uppsala</td>\n",
       "      <td>233839</td>\n",
       "      <td>230767</td>\n",
       "      <td>1.331213</td>\n",
       "    </tr>\n",
       "    <tr>\n",
       "      <th>285</th>\n",
       "      <td>Linköping</td>\n",
       "      <td>164616</td>\n",
       "      <td>163051</td>\n",
       "      <td>0.959822</td>\n",
       "    </tr>\n",
       "  </tbody>\n",
       "</table>\n",
       "</div>"
      ],
      "text/plain": [
       "        Kommun  Total pop 2020  Total pop 2019  Total förändring\n",
       "289  Stockholm          975551          974073          0.151734\n",
       "288   Göteborg          583056          579281          0.651670\n",
       "287      Malmö          347949          344166          1.099179\n",
       "286    Uppsala          233839          230767          1.331213\n",
       "285  Linköping          164616          163051          0.959822"
      ]
     },
     "execution_count": 30,
     "metadata": {},
     "output_type": "execute_result"
    }
   ],
   "source": [
    "df_total = df_total.rename(\n",
    "    columns={\n",
    "        \"Folkmängd 2020\": \"Total pop 2020\",\n",
    "        \"Folkmängd 2019\": \"Total pop 2019\",\n",
    "        \"Förändring %\": \"Total förändring\",\n",
    "    }\n",
    "    ).drop([\"Rang 2020\", \"Rang 2019\"], axis=\"columns\")\n",
    "    \n",
    "df_total.head()"
   ]
  },
  {
   "cell_type": "code",
   "execution_count": 31,
   "metadata": {},
   "outputs": [
    {
     "data": {
      "text/html": [
       "<div>\n",
       "<style scoped>\n",
       "    .dataframe tbody tr th:only-of-type {\n",
       "        vertical-align: middle;\n",
       "    }\n",
       "\n",
       "    .dataframe tbody tr th {\n",
       "        vertical-align: top;\n",
       "    }\n",
       "\n",
       "    .dataframe thead th {\n",
       "        text-align: right;\n",
       "    }\n",
       "</style>\n",
       "<table border=\"1\" class=\"dataframe\">\n",
       "  <thead>\n",
       "    <tr style=\"text-align: right;\">\n",
       "      <th></th>\n",
       "      <th>Kommun</th>\n",
       "      <th>Folkmängd 2020</th>\n",
       "      <th>Folkmängd 2019</th>\n",
       "      <th>Förändring</th>\n",
       "      <th>Kön</th>\n",
       "      <th>Total pop 2020</th>\n",
       "      <th>Total pop 2019</th>\n",
       "      <th>Total förändring</th>\n",
       "    </tr>\n",
       "  </thead>\n",
       "  <tbody>\n",
       "    <tr>\n",
       "      <th>0</th>\n",
       "      <td>Stockholm</td>\n",
       "      <td>492569</td>\n",
       "      <td>491853</td>\n",
       "      <td>0.145572</td>\n",
       "      <td>Kvinnor</td>\n",
       "      <td>975551</td>\n",
       "      <td>974073</td>\n",
       "      <td>0.151734</td>\n",
       "    </tr>\n",
       "    <tr>\n",
       "      <th>1</th>\n",
       "      <td>Stockholm</td>\n",
       "      <td>482982</td>\n",
       "      <td>482220</td>\n",
       "      <td>0.158019</td>\n",
       "      <td>Män</td>\n",
       "      <td>975551</td>\n",
       "      <td>974073</td>\n",
       "      <td>0.151734</td>\n",
       "    </tr>\n",
       "    <tr>\n",
       "      <th>2</th>\n",
       "      <td>Göteborg</td>\n",
       "      <td>292505</td>\n",
       "      <td>290308</td>\n",
       "      <td>0.756782</td>\n",
       "      <td>Män</td>\n",
       "      <td>583056</td>\n",
       "      <td>579281</td>\n",
       "      <td>0.651670</td>\n",
       "    </tr>\n",
       "    <tr>\n",
       "      <th>3</th>\n",
       "      <td>Göteborg</td>\n",
       "      <td>290551</td>\n",
       "      <td>288973</td>\n",
       "      <td>0.546072</td>\n",
       "      <td>Kvinnor</td>\n",
       "      <td>583056</td>\n",
       "      <td>579281</td>\n",
       "      <td>0.651670</td>\n",
       "    </tr>\n",
       "    <tr>\n",
       "      <th>4</th>\n",
       "      <td>Malmö</td>\n",
       "      <td>172538</td>\n",
       "      <td>170623</td>\n",
       "      <td>1.122357</td>\n",
       "      <td>Män</td>\n",
       "      <td>347949</td>\n",
       "      <td>344166</td>\n",
       "      <td>1.099179</td>\n",
       "    </tr>\n",
       "    <tr>\n",
       "      <th>...</th>\n",
       "      <td>...</td>\n",
       "      <td>...</td>\n",
       "      <td>...</td>\n",
       "      <td>...</td>\n",
       "      <td>...</td>\n",
       "      <td>...</td>\n",
       "      <td>...</td>\n",
       "      <td>...</td>\n",
       "    </tr>\n",
       "    <tr>\n",
       "      <th>575</th>\n",
       "      <td>Dorotea</td>\n",
       "      <td>1327</td>\n",
       "      <td>1356</td>\n",
       "      <td>-2.138643</td>\n",
       "      <td>Män</td>\n",
       "      <td>2498</td>\n",
       "      <td>2551</td>\n",
       "      <td>-2.077617</td>\n",
       "    </tr>\n",
       "    <tr>\n",
       "      <th>576</th>\n",
       "      <td>Sorsele</td>\n",
       "      <td>1157</td>\n",
       "      <td>1170</td>\n",
       "      <td>-1.111111</td>\n",
       "      <td>Kvinnor</td>\n",
       "      <td>2442</td>\n",
       "      <td>2489</td>\n",
       "      <td>-1.888309</td>\n",
       "    </tr>\n",
       "    <tr>\n",
       "      <th>577</th>\n",
       "      <td>Sorsele</td>\n",
       "      <td>1285</td>\n",
       "      <td>1319</td>\n",
       "      <td>-2.57771</td>\n",
       "      <td>Män</td>\n",
       "      <td>2442</td>\n",
       "      <td>2489</td>\n",
       "      <td>-1.888309</td>\n",
       "    </tr>\n",
       "    <tr>\n",
       "      <th>578</th>\n",
       "      <td>Bjurholm</td>\n",
       "      <td>1233</td>\n",
       "      <td>1249</td>\n",
       "      <td>-1.281025</td>\n",
       "      <td>Män</td>\n",
       "      <td>2387</td>\n",
       "      <td>2408</td>\n",
       "      <td>-0.872093</td>\n",
       "    </tr>\n",
       "    <tr>\n",
       "      <th>579</th>\n",
       "      <td>Bjurholm</td>\n",
       "      <td>1154</td>\n",
       "      <td>1159</td>\n",
       "      <td>-0.431406</td>\n",
       "      <td>Kvinnor</td>\n",
       "      <td>2387</td>\n",
       "      <td>2408</td>\n",
       "      <td>-0.872093</td>\n",
       "    </tr>\n",
       "  </tbody>\n",
       "</table>\n",
       "<p>580 rows × 8 columns</p>\n",
       "</div>"
      ],
      "text/plain": [
       "        Kommun  Folkmängd 2020  Folkmängd 2019 Förändring      Kön  \\\n",
       "0    Stockholm          492569          491853   0.145572  Kvinnor   \n",
       "1    Stockholm          482982          482220   0.158019      Män   \n",
       "2     Göteborg          292505          290308   0.756782      Män   \n",
       "3     Göteborg          290551          288973   0.546072  Kvinnor   \n",
       "4        Malmö          172538          170623   1.122357      Män   \n",
       "..         ...             ...             ...        ...      ...   \n",
       "575    Dorotea            1327            1356  -2.138643      Män   \n",
       "576    Sorsele            1157            1170  -1.111111  Kvinnor   \n",
       "577    Sorsele            1285            1319   -2.57771      Män   \n",
       "578   Bjurholm            1233            1249  -1.281025      Män   \n",
       "579   Bjurholm            1154            1159  -0.431406  Kvinnor   \n",
       "\n",
       "     Total pop 2020  Total pop 2019  Total förändring  \n",
       "0            975551          974073          0.151734  \n",
       "1            975551          974073          0.151734  \n",
       "2            583056          579281          0.651670  \n",
       "3            583056          579281          0.651670  \n",
       "4            347949          344166          1.099179  \n",
       "..              ...             ...               ...  \n",
       "575            2498            2551         -2.077617  \n",
       "576            2442            2489         -1.888309  \n",
       "577            2442            2489         -1.888309  \n",
       "578            2387            2408         -0.872093  \n",
       "579            2387            2408         -0.872093  \n",
       "\n",
       "[580 rows x 8 columns]"
      ]
     },
     "execution_count": 31,
     "metadata": {},
     "output_type": "execute_result"
    }
   ],
   "source": [
    "df = df.merge(df_total).sort_values(by=\"Total pop 2020\", ascending = False).reset_index(drop= True)   # Sorterar\n",
    "df"
   ]
  },
  {
   "cell_type": "markdown",
   "metadata": {},
   "source": [
    "&nbsp; e) Create barplots showing the gender populations of Swedens 10 largest and 10 smallest cities. (*) "
   ]
  },
  {
   "cell_type": "code",
   "execution_count": 32,
   "metadata": {},
   "outputs": [
    {
     "data": {
      "image/png": "[encoded data removed]",
      "text/plain": [
       "<Figure size 1920x480 with 2 Axes>"
      ]
     },
     "metadata": {},
     "output_type": "display_data"
    }
   ],
   "source": [
    "import seaborn as sns  # För DataFrames\n",
    "import matplotlib.pyplot as plt\n",
    "\n",
    "\n",
    "# df.head()  - Plockar ut de första\n",
    "# df.tail()  - Plockar ut de sista\n",
    "\n",
    "data = [df.head(20), df.tail(20)]\n",
    "\n",
    "fig, axes = plt.subplots(1, 2, figsize=(16, 4), dpi=120)\n",
    "\n",
    "titles = [\"Swedens 10 largest cities\", \"Swedens 10 smallest cities\"]\n",
    "\n",
    "for i in range(len(data)):\n",
    "    sns.barplot(data=data[i], x=\"Folkmängd 2020\", y=\"Kommun\", hue=\"Kön\", ax=axes[i])\n",
    "    axes[i].set(title=titles[i])\n",
    "\n",
    "\n",
    "# Vi vill loopa igenom titles och dataframes samtidigt\n",
    "# Vi vill ha ett i här = för index\n",
    "# Vi vill ha data och title som kommer från zipen"
   ]
  },
  {
   "cell_type": "markdown",
   "metadata": {},
   "source": [
    "&nbsp; f) Create a pie chart showing the total male and female population in Sweden 2020. (*)"
   ]
  },
  {
   "cell_type": "code",
   "execution_count": 33,
   "metadata": {},
   "outputs": [
    {
     "data": {
      "text/html": [
       "<div>\n",
       "<style scoped>\n",
       "    .dataframe tbody tr th:only-of-type {\n",
       "        vertical-align: middle;\n",
       "    }\n",
       "\n",
       "    .dataframe tbody tr th {\n",
       "        vertical-align: top;\n",
       "    }\n",
       "\n",
       "    .dataframe thead th {\n",
       "        text-align: right;\n",
       "    }\n",
       "</style>\n",
       "<table border=\"1\" class=\"dataframe\">\n",
       "  <thead>\n",
       "    <tr style=\"text-align: right;\">\n",
       "      <th></th>\n",
       "      <th>Kommun</th>\n",
       "      <th>Folkmängd 2020</th>\n",
       "      <th>Folkmängd 2019</th>\n",
       "      <th>Förändring</th>\n",
       "      <th>Kön</th>\n",
       "      <th>Total pop 2020</th>\n",
       "      <th>Total pop 2019</th>\n",
       "      <th>Total förändring</th>\n",
       "    </tr>\n",
       "  </thead>\n",
       "  <tbody>\n",
       "    <tr>\n",
       "      <th>0</th>\n",
       "      <td>Stockholm</td>\n",
       "      <td>492569</td>\n",
       "      <td>491853</td>\n",
       "      <td>0.145572</td>\n",
       "      <td>Kvinnor</td>\n",
       "      <td>975551</td>\n",
       "      <td>974073</td>\n",
       "      <td>0.151734</td>\n",
       "    </tr>\n",
       "    <tr>\n",
       "      <th>1</th>\n",
       "      <td>Stockholm</td>\n",
       "      <td>482982</td>\n",
       "      <td>482220</td>\n",
       "      <td>0.158019</td>\n",
       "      <td>Män</td>\n",
       "      <td>975551</td>\n",
       "      <td>974073</td>\n",
       "      <td>0.151734</td>\n",
       "    </tr>\n",
       "  </tbody>\n",
       "</table>\n",
       "</div>"
      ],
      "text/plain": [
       "      Kommun  Folkmängd 2020  Folkmängd 2019 Förändring      Kön  \\\n",
       "0  Stockholm          492569          491853   0.145572  Kvinnor   \n",
       "1  Stockholm          482982          482220   0.158019      Män   \n",
       "\n",
       "   Total pop 2020  Total pop 2019  Total förändring  \n",
       "0          975551          974073          0.151734  \n",
       "1          975551          974073          0.151734  "
      ]
     },
     "execution_count": 33,
     "metadata": {},
     "output_type": "execute_result"
    }
   ],
   "source": [
    "df.head(2)"
   ]
  },
  {
   "cell_type": "code",
   "execution_count": 37,
   "metadata": {},
   "outputs": [
    {
     "data": {
      "text/html": [
       "<div>\n",
       "<style scoped>\n",
       "    .dataframe tbody tr th:only-of-type {\n",
       "        vertical-align: middle;\n",
       "    }\n",
       "\n",
       "    .dataframe tbody tr th {\n",
       "        vertical-align: top;\n",
       "    }\n",
       "\n",
       "    .dataframe thead th {\n",
       "        text-align: right;\n",
       "    }\n",
       "</style>\n",
       "<table border=\"1\" class=\"dataframe\">\n",
       "  <thead>\n",
       "    <tr style=\"text-align: right;\">\n",
       "      <th></th>\n",
       "      <th>Folkmängd 2020</th>\n",
       "      <th>Folkmängd 2019</th>\n",
       "      <th>Total pop 2020</th>\n",
       "      <th>Total pop 2019</th>\n",
       "      <th>Total förändring</th>\n",
       "    </tr>\n",
       "    <tr>\n",
       "      <th>Kön</th>\n",
       "      <th></th>\n",
       "      <th></th>\n",
       "      <th></th>\n",
       "      <th></th>\n",
       "      <th></th>\n",
       "    </tr>\n",
       "  </thead>\n",
       "  <tbody>\n",
       "    <tr>\n",
       "      <th>Kvinnor</th>\n",
       "      <td>5156448</td>\n",
       "      <td>5131775</td>\n",
       "      <td>10379295</td>\n",
       "      <td>10327589</td>\n",
       "      <td>44.854988</td>\n",
       "    </tr>\n",
       "    <tr>\n",
       "      <th>Män</th>\n",
       "      <td>5222847</td>\n",
       "      <td>5195814</td>\n",
       "      <td>10379295</td>\n",
       "      <td>10327589</td>\n",
       "      <td>44.854988</td>\n",
       "    </tr>\n",
       "  </tbody>\n",
       "</table>\n",
       "</div>"
      ],
      "text/plain": [
       "         Folkmängd 2020  Folkmängd 2019  Total pop 2020  Total pop 2019  \\\n",
       "Kön                                                                       \n",
       "Kvinnor         5156448         5131775        10379295        10327589   \n",
       "Män             5222847         5195814        10379295        10327589   \n",
       "\n",
       "         Total förändring  \n",
       "Kön                        \n",
       "Kvinnor         44.854988  \n",
       "Män             44.854988  "
      ]
     },
     "execution_count": 37,
     "metadata": {},
     "output_type": "execute_result"
    }
   ],
   "source": [
    "x = df.groupby([\"Kön\"]).sum(\"Folkmängd 2020\")\n",
    "x"
   ]
  },
  {
   "cell_type": "code",
   "execution_count": 38,
   "metadata": {},
   "outputs": [
    {
     "data": {
      "text/plain": [
       "Kön\n",
       "Kvinnor    5156448\n",
       "Män        5222847\n",
       "Name: Folkmängd 2020, dtype: int64"
      ]
     },
     "execution_count": 38,
     "metadata": {},
     "output_type": "execute_result"
    }
   ],
   "source": [
    "x[\"Folkmängd 2020\"]"
   ]
  },
  {
   "cell_type": "code",
   "execution_count": 39,
   "metadata": {},
   "outputs": [
    {
     "data": {
      "image/png": "[encoded data removed]",
      "text/plain": [
       "<Figure size 640x480 with 1 Axes>"
      ]
     },
     "metadata": {},
     "output_type": "display_data"
    }
   ],
   "source": [
    "plt.pie(x =x[\"Folkmängd 2020\"], labels = x.index, autopct=\"%0.1f%%\", startangle = 90);"
   ]
  },
  {
   "cell_type": "markdown",
   "metadata": {},
   "source": [
    "&nbsp; g) Create a barplot showing the cities with the five largest percentual gender difference in 2020. (**)"
   ]
  },
  {
   "cell_type": "code",
   "execution_count": 41,
   "metadata": {},
   "outputs": [
    {
     "name": "stdout",
     "output_type": "stream",
     "text": [
      "<class 'pandas.core.frame.DataFrame'>\n",
      "RangeIndex: 580 entries, 0 to 579\n",
      "Data columns (total 8 columns):\n",
      " #   Column            Non-Null Count  Dtype  \n",
      "---  ------            --------------  -----  \n",
      " 0   Kommun            580 non-null    object \n",
      " 1   Folkmängd 2020    580 non-null    int64  \n",
      " 2   Folkmängd 2019    580 non-null    int64  \n",
      " 3   Förändring        580 non-null    object \n",
      " 4   Kön               580 non-null    object \n",
      " 5   Total pop 2020    580 non-null    int64  \n",
      " 6   Total pop 2019    580 non-null    int64  \n",
      " 7   Total förändring  580 non-null    float64\n",
      "dtypes: float64(1), int64(4), object(3)\n",
      "memory usage: 36.4+ KB\n"
     ]
    }
   ],
   "source": [
    "df.info() # Vissa datatyper är inte vad vi förväntat oss"
   ]
  },
  {
   "cell_type": "code",
   "execution_count": 42,
   "metadata": {},
   "outputs": [],
   "source": [
    "df[df[\"Förändring\"] == \".\"] = 0.0"
   ]
  },
  {
   "cell_type": "code",
   "execution_count": 46,
   "metadata": {},
   "outputs": [
    {
     "name": "stdout",
     "output_type": "stream",
     "text": [
      "<class 'pandas.core.frame.DataFrame'>\n",
      "RangeIndex: 580 entries, 0 to 579\n",
      "Data columns (total 8 columns):\n",
      " #   Column            Non-Null Count  Dtype  \n",
      "---  ------            --------------  -----  \n",
      " 0   Kommun            580 non-null    object \n",
      " 1   Folkmängd 2020    580 non-null    int64  \n",
      " 2   Folkmängd 2019    580 non-null    int64  \n",
      " 3   Förändring        580 non-null    float64\n",
      " 4   Kön               580 non-null    object \n",
      " 5   Total pop 2020    580 non-null    int32  \n",
      " 6   Total pop 2019    580 non-null    float64\n",
      " 7   Total förändring  580 non-null    float64\n",
      "dtypes: float64(3), int32(1), int64(2), object(2)\n",
      "memory usage: 34.1+ KB\n"
     ]
    }
   ],
   "source": [
    "# Changing datatyper till det vi förväntade oss:\n",
    "\n",
    "df[\"Förändring\"] = df[\"Förändring\"].astype(float)\n",
    "df[\"Total pop 2020\"] = df[\"Total pop 2020\"].astype(int)\n",
    "df[\"Total pop 2019\"] = df[\"Total pop 2019\"].astype(float)\n",
    "df[\"Total förändring\"] = df[\"Total förändring\"].astype(float)\n",
    "df.info()"
   ]
  },
  {
   "cell_type": "markdown",
   "metadata": {},
   "source": [
    "&nbsp; h) Create a barplot showing the top 5 cities with largest populational growth from 2019 to 2020 (**)"
   ]
  },
  {
   "cell_type": "markdown",
   "metadata": {},
   "source": [
    "&nbsp; i) Feel free to investigate other questions you are interested in using these datasets. (*), (**)"
   ]
  }
 ],
 "metadata": {
  "kernelspec": {
   "display_name": "Python 3.9.13 ('Databehandling-JoelOscarsson-h-Jlf9H_')",
   "language": "python",
   "name": "python3"
  },
  "language_info": {
   "codemirror_mode": {
    "name": "ipython",
    "version": 3
   },
   "file_extension": ".py",
   "mimetype": "text/x-python",
   "name": "python",
   "nbconvert_exporter": "python",
   "pygments_lexer": "ipython3",
   "version": "3.9.13"
  },
  "orig_nbformat": 4,
  "vscode": {
   "interpreter": {
    "hash": "df0739bc7b39e8427964f9ae188a6837100a4862158a1822169053d66701d42e"
   }
  }
 },
 "nbformat": 4,
 "nbformat_minor": 2
}
